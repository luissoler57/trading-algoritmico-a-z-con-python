{
  "cells": [
    {
      "cell_type": "markdown",
      "metadata": {
        "colab_type": "text",
        "id": "view-in-github"
      },
      "source": [
        "<a href=\"https://colab.research.google.com/github/joanby/trading-algoritmico-a-z-con-python/blob/main/ES_TA_Cap%C3%ADtulo_02_Python_para_Data_Science.ipynb\" target=\"_parent\"><img src=\"https://colab.research.google.com/assets/colab-badge.svg\" alt=\"Open In Colab\"/></a>"
      ]
    },
    {
      "cell_type": "markdown",
      "metadata": {
        "id": "HwIk5lNgltIS"
      },
      "source": [
        "<p><img alt=\"Colaboratory logo\" height=\"45px\" src=\"https://www.quantreo.com/wp-content/uploads/2021/10/Original-on-Transparent.png\" align=\"left\" hspace=\"10px\" vspace=\"0px\">\n",
        "<img alt=\"Colaboratory logo\" height=\"45px\" src=\"https://static-881c.kxcdn.com/wp-content/uploads/2016/03/frogamesLogoFull4.png\" align=\"left\" hspace=\"10px\" vspace=\"0px\"></p>\n",
        "\n",
        "\n",
        "# PRERREQUISITOS  - **Python para Data Science**\n",
        "\n",
        "Este capítulo te dará los fundamentos de python para ciencia de  datos que necesitas para seguir el resto del curso. Estos son sólo recordatorios de lo que será útil. Por eso te aconsejo que sigas una formación rápida y gratuita de Python para tus proyectos, porque si eres totalmente ajeno a él, puede ser difícil hacer tu proyecto. Nosotros te recomendamos el curso de más de 50 horas de programación, [Python de la A a la Z que puedes obtener desde nuestra web de frogames](https://cursos.frogamesformacion.com/courses/python-az/).\n",
        "\n",
        "\n",
        "* Numpy:\n",
        "> * Creación de tablas con Numpy\n",
        "> * Aleatoriedad con Numpy\n",
        "> * Indexación y Slicing\n",
        "\n",
        "* Pandas:\n",
        "> * Series y dataframe \n",
        "> * Funciones útiles de pandas\n",
        "> * Indexación y Slicing\n",
        "\n",
        "* Matplotlib\n",
        "> * Gráficos\n",
        "> * Nubes de puntos\n",
        "> * Funciones útiles\n",
        "\n",
        "\n",
        "💰 Únete a la comunidad de [Discord](https://discord.gg/z3dx5XpkX4)\n",
        "\n",
        "📚 Puedes leer nuestro libro en [Amazon](https://www.amazon.es/Python-para-finanzas-trading-algor%C3%ADtmico-ebook/dp/B0BT4ZS9Q3/)\n",
        "\n",
        "🖥️ El canal de [YouTube de Quantreo's](https://www.youtube.com/channel/UCp7jckfiEglNf_Gj62VR0pw) (en inglés) y el de [Frogames](https://www.youtube.com/channel/UCMUxXNYrVCv6-bQakhomvBg) en español\n",
        "\n",
        "\n",
        "\n",
        "\n",
        "\n",
        "\n"
      ]
    },
    {
      "cell_type": "markdown",
      "metadata": {
        "id": "E6gHyLh1Bzh5"
      },
      "source": [
        "### Numpy"
      ]
    },
    {
      "cell_type": "markdown",
      "metadata": {
        "id": "oYh-hMSTB1Ur"
      },
      "source": [
        "##### Creación de tablas con Numpy"
      ]
    },
    {
      "cell_type": "code",
      "execution_count": 13,
      "metadata": {
        "colab": {
          "base_uri": "https://localhost:8080/"
        },
        "id": "qy75aQjfBqei",
        "outputId": "a0347ee9-5b33-40c4-9b65-146abd86b211"
      },
      "outputs": [
        {
          "data": {
            "text/plain": [
              "array([1, 2, 3])"
            ]
          },
          "execution_count": 13,
          "metadata": {},
          "output_type": "execute_result"
        }
      ],
      "source": [
        "# Import de numpy\n",
        "\n",
        "import numpy as np\n",
        "\n",
        "# 1D array\n",
        "arr = np.array([1,2,3])\n",
        "arr"
      ]
    },
    {
      "cell_type": "code",
      "execution_count": 4,
      "metadata": {
        "colab": {
          "base_uri": "https://localhost:8080/"
        },
        "id": "WO2_F5w7krek",
        "outputId": "fd54a9db-b101-4181-9f0f-95ed65834b2f"
      },
      "outputs": [
        {
          "data": {
            "text/plain": [
              "array([ 0.,  1.,  2.,  3.,  4.,  5.,  6.,  7.,  8.,  9., 10., 11., 12.,\n",
              "       13., 14., 15., 16., 17., 18., 19., 20., 21., 22., 23., 24., 25.,\n",
              "       26., 27., 28., 29., 30., 31., 32., 33., 34., 35., 36., 37., 38.,\n",
              "       39., 40., 41., 42., 43., 44., 45., 46., 47., 48., 49., 50.])"
            ]
          },
          "execution_count": 4,
          "metadata": {},
          "output_type": "execute_result"
        }
      ],
      "source": [
        "# Función Linspace\n",
        "np.linspace(0, 50, 51)"
      ]
    },
    {
      "cell_type": "code",
      "execution_count": 5,
      "metadata": {
        "colab": {
          "base_uri": "https://localhost:8080/"
        },
        "id": "mfR1z0KWk6H7",
        "outputId": "ff78649f-80ac-42ae-9f07-2ef44e856f30"
      },
      "outputs": [
        {
          "data": {
            "text/plain": [
              "array([ 0,  1,  2,  3,  4,  5,  6,  7,  8,  9, 10, 11, 12, 13, 14, 15, 16,\n",
              "       17, 18, 19, 20, 21, 22, 23, 24, 25, 26, 27, 28, 29, 30, 31, 32, 33,\n",
              "       34, 35, 36, 37, 38, 39, 40, 41, 42, 43, 44, 45, 46, 47, 48, 49, 50])"
            ]
          },
          "execution_count": 5,
          "metadata": {},
          "output_type": "execute_result"
        }
      ],
      "source": [
        "# Función Arange \n",
        "np.arange(0,51)"
      ]
    },
    {
      "cell_type": "code",
      "execution_count": 9,
      "metadata": {
        "colab": {
          "base_uri": "https://localhost:8080/"
        },
        "id": "JOMnsG3ZCWXi",
        "outputId": "f180cd4e-a9c8-4347-ca3a-6ee82b7c2619"
      },
      "outputs": [
        {
          "data": {
            "text/plain": [
              "array([[1, 2, 3],\n",
              "       [4, 5, 6],\n",
              "       [7, 8, 9]])"
            ]
          },
          "execution_count": 9,
          "metadata": {},
          "output_type": "execute_result"
        }
      ],
      "source": [
        "# 2D array\n",
        "arr_bis = np.array([[1,2,3],\n",
        "                    [4,5,6],\n",
        "                    [7,8,9]])\n",
        "arr_bis"
      ]
    },
    {
      "cell_type": "code",
      "execution_count": 10,
      "metadata": {
        "colab": {
          "base_uri": "https://localhost:8080/"
        },
        "id": "QTRSkxrJCtgC",
        "outputId": "e3c96c4e-8660-4657-9c68-f8d096932c50"
      },
      "outputs": [
        {
          "data": {
            "text/plain": [
              "array([[0., 0., 0., 0., 0.],\n",
              "       [0., 0., 0., 0., 0.],\n",
              "       [0., 0., 0., 0., 0.]])"
            ]
          },
          "execution_count": 10,
          "metadata": {},
          "output_type": "execute_result"
        }
      ],
      "source": [
        "# Matriz de Ceros\n",
        "O = np.zeros([3,5])\n",
        "O"
      ]
    },
    {
      "cell_type": "code",
      "execution_count": 11,
      "metadata": {
        "colab": {
          "base_uri": "https://localhost:8080/"
        },
        "id": "tVFbAMe9C_fw",
        "outputId": "87bfabdb-7257-4b16-f41a-726512fe7b18"
      },
      "outputs": [
        {
          "data": {
            "text/plain": [
              "array([[1., 0., 0., 0., 0.],\n",
              "       [0., 1., 0., 0., 0.],\n",
              "       [0., 0., 1., 0., 0.],\n",
              "       [0., 0., 0., 1., 0.],\n",
              "       [0., 0., 0., 0., 1.]])"
            ]
          },
          "execution_count": 11,
          "metadata": {},
          "output_type": "execute_result"
        }
      ],
      "source": [
        "# Matriz Identidad\n",
        "I = np.identity(5)\n",
        "I"
      ]
    },
    {
      "cell_type": "code",
      "execution_count": 12,
      "metadata": {
        "colab": {
          "base_uri": "https://localhost:8080/"
        },
        "id": "WiNy3cSuDM9r",
        "outputId": "8b5b9fbc-012c-4285-ade9-8043f59254d7"
      },
      "outputs": [
        {
          "data": {
            "text/plain": [
              "array([[1., 1., 1., 1., 1.],\n",
              "       [1., 1., 1., 1., 1.],\n",
              "       [1., 1., 1., 1., 1.]])"
            ]
          },
          "execution_count": 12,
          "metadata": {},
          "output_type": "execute_result"
        }
      ],
      "source": [
        "# Matriz de Unos\n",
        "One = np.ones([3,5])\n",
        "One"
      ]
    },
    {
      "cell_type": "code",
      "execution_count": 15,
      "metadata": {
        "colab": {
          "base_uri": "https://localhost:8080/"
        },
        "id": "_D2LA0o9DXA6",
        "outputId": "cc11100a-9adf-4065-fc81-5bd580afa107"
      },
      "outputs": [
        {
          "data": {
            "text/plain": [
              "array([[1., 1., 1., 1., 1.],\n",
              "       [1., 1., 1., 1., 1.],\n",
              "       [1., 1., 1., 1., 1.]])"
            ]
          },
          "execution_count": 15,
          "metadata": {},
          "output_type": "execute_result"
        }
      ],
      "source": [
        "# Sumar dos matrices\n",
        "O + One"
      ]
    },
    {
      "cell_type": "code",
      "execution_count": 16,
      "metadata": {
        "colab": {
          "base_uri": "https://localhost:8080/"
        },
        "id": "EYAJNct5DoYy",
        "outputId": "7a934858-248f-4c73-d347-b6c8eb9176e3"
      },
      "outputs": [
        {
          "data": {
            "text/plain": [
              "array([[1., 1., 1., 1., 1.],\n",
              "       [1., 1., 1., 1., 1.],\n",
              "       [1., 1., 1., 1., 1.]])"
            ]
          },
          "execution_count": 16,
          "metadata": {},
          "output_type": "execute_result"
        }
      ],
      "source": [
        "# Restar dos matrices\n",
        "One-O"
      ]
    },
    {
      "cell_type": "code",
      "execution_count": 17,
      "metadata": {
        "colab": {
          "base_uri": "https://localhost:8080/"
        },
        "id": "MwQe3BGYDuYx",
        "outputId": "42bba7ab-0c0d-44ac-fd14-7620c9a72232"
      },
      "outputs": [
        {
          "data": {
            "text/plain": [
              "array([[10., 10., 10., 10., 10.],\n",
              "       [10., 10., 10., 10., 10.],\n",
              "       [10., 10., 10., 10., 10.]])"
            ]
          },
          "execution_count": 17,
          "metadata": {},
          "output_type": "execute_result"
        }
      ],
      "source": [
        "# Producto por escalar\n",
        "One * 10"
      ]
    },
    {
      "cell_type": "markdown",
      "metadata": {
        "id": "KE9L44nED-JK"
      },
      "source": [
        "##### Random"
      ]
    },
    {
      "cell_type": "code",
      "execution_count": 10,
      "metadata": {
        "colab": {
          "base_uri": "https://localhost:8080/"
        },
        "id": "MXJBsigRENMh",
        "outputId": "0f4ba3ce-6edf-4563-93d5-7df4cee0892c"
      },
      "outputs": [
        {
          "data": {
            "text/plain": [
              "array([0.32662702, 0.76859722, 0.29800789, 0.44973423, 0.0467521 ,\n",
              "       0.40029   ])"
            ]
          },
          "execution_count": 10,
          "metadata": {},
          "output_type": "execute_result"
        }
      ],
      "source": [
        "# Matriz aleatoria 1d con valores entre 0 y 1 (Ideal para simular un peso aleatorio de una cartera por ejemplo)\n",
        "ran = np.random.rand(6)\n",
        "ran"
      ]
    },
    {
      "cell_type": "code",
      "execution_count": 11,
      "metadata": {
        "colab": {
          "base_uri": "https://localhost:8080/"
        },
        "id": "RwdBtqLAE3gi",
        "outputId": "3dcde4dc-e198-40ef-a8a1-7e6cd23d67cc"
      },
      "outputs": [
        {
          "name": "stdout",
          "output_type": "stream",
          "text": [
            "Shape es (6,)\n",
            "Shape es (6, 1)\n"
          ]
        }
      ],
      "source": [
        "# BONUS: Cómo encontrar la forma de un array y transformar un array 1d en un array 2d\n",
        "print(f\"Shape es {np.shape(ran)}\")\n",
        "\n",
        "# Reshape\n",
        "ran = ran.reshape(-1,1)\n",
        "\n",
        "# Nueva forma\n",
        "print(f\"Shape es {np.shape(ran)}\")"
      ]
    },
    {
      "cell_type": "code",
      "execution_count": 12,
      "metadata": {
        "colab": {
          "base_uri": "https://localhost:8080/"
        },
        "id": "NLwJDd9Wzfwb",
        "outputId": "73907693-2968-4932-d466-57c50bb06fb7"
      },
      "outputs": [
        {
          "data": {
            "text/plain": [
              "array([[0.32662702],\n",
              "       [0.76859722],\n",
              "       [0.29800789],\n",
              "       [0.44973423],\n",
              "       [0.0467521 ],\n",
              "       [0.40029   ]])"
            ]
          },
          "execution_count": 12,
          "metadata": {},
          "output_type": "execute_result"
        }
      ],
      "source": [
        "ran"
      ]
    },
    {
      "cell_type": "code",
      "execution_count": 21,
      "metadata": {
        "colab": {
          "base_uri": "https://localhost:8080/"
        },
        "id": "ZxwK8rYLFGkC",
        "outputId": "158f8802-5ce2-411f-d3a8-b0d0afc34d03"
      },
      "outputs": [
        {
          "data": {
            "text/plain": [
              "array([[31, 68, 60, 15,  4],\n",
              "       [19, 28, 88, 64, 84],\n",
              "       [89, 88, 28, 55, 46],\n",
              "       [88, 67, 56, 56, 99],\n",
              "       [67, 65, 10, 65, 78]])"
            ]
          },
          "execution_count": 21,
          "metadata": {},
          "output_type": "execute_result"
        }
      ],
      "source": [
        "# Valores aleatorios enteros\n",
        "arr_int = np.random.randint(100, size=(5,5))\n",
        "arr_int"
      ]
    },
    {
      "cell_type": "code",
      "execution_count": 22,
      "metadata": {
        "colab": {
          "base_uri": "https://localhost:8080/"
        },
        "id": "x8wZZsWzlgHG",
        "outputId": "a644687e-5862-443e-9870-2be5c55aae0a"
      },
      "outputs": [
        {
          "data": {
            "text/plain": [
              "array([ 0.0317041 , -0.00369426,  0.07927536,  0.08888987, -0.02801485,\n",
              "        0.0061748 ])"
            ]
          },
          "execution_count": 22,
          "metadata": {},
          "output_type": "execute_result"
        }
      ],
      "source": [
        "# Distribución normal 1 Dim\n",
        "np.random.normal(loc=0, scale=0.1, size=(6,))"
      ]
    },
    {
      "cell_type": "code",
      "execution_count": 28,
      "metadata": {
        "colab": {
          "base_uri": "https://localhost:8080/"
        },
        "id": "9BYKsDhxlz14",
        "outputId": "7aa1380d-5acd-40c9-bb11-1fa8ceb87d1f"
      },
      "outputs": [
        {
          "data": {
            "text/plain": [
              "array([[-0.18217544,  0.11776452,  0.08301567, -0.00486639, -0.03066252,\n",
              "        -0.19389907],\n",
              "       [ 0.33269801, -0.14701157, -0.00718461,  0.02619011, -0.03061681,\n",
              "         0.07615358],\n",
              "       [ 0.04384155,  0.07425683, -0.06842404, -0.1067052 , -0.00276035,\n",
              "        -0.06787927],\n",
              "       [-0.04390115, -0.04891286, -0.01618534,  0.14619283,  0.02678329,\n",
              "         0.19601582],\n",
              "       [ 0.08948065, -0.02855578,  0.07938803, -0.07630312,  0.1058048 ,\n",
              "        -0.08884365],\n",
              "       [ 0.03616659, -0.06043576, -0.0274361 ,  0.01434024,  0.11709511,\n",
              "         0.11765874]])"
            ]
          },
          "execution_count": 28,
          "metadata": {},
          "output_type": "execute_result"
        }
      ],
      "source": [
        "# Distribución normal 2 Dim\n",
        "np.random.normal(loc=0, scale=0.1, size=(6,6))"
      ]
    },
    {
      "cell_type": "code",
      "execution_count": 35,
      "metadata": {
        "colab": {
          "base_uri": "https://localhost:8080/"
        },
        "id": "PP4qi331l_Lt",
        "outputId": "1423f378-1874-4b3c-d16b-c881723803ce"
      },
      "outputs": [
        {
          "name": "stdout",
          "output_type": "stream",
          "text": [
            "[0.73784304 0.25688482 0.05579651]\n",
            "[0.37668479 0.44209279 0.41497444]\n",
            "[0.98419185 0.33341227 0.67370162]\n",
            "[0.98419185 0.33341227 0.67370162]\n",
            "[0.98419185 0.33341227 0.67370162]\n"
          ]
        }
      ],
      "source": [
        "# Establecer la semilla de la aleatoriedad\n",
        "print(np.random.rand(3))\n",
        "print(np.random.rand(3))\n",
        "\n",
        "np.random.seed(seed=56)\n",
        "print(np.random.rand(3))\n",
        "\n",
        "np.random.seed(seed=56)\n",
        "print(np.random.rand(3))\n",
        "\n",
        "np.random.seed(seed=56)\n",
        "print(np.random.rand(3))"
      ]
    },
    {
      "cell_type": "markdown",
      "metadata": {
        "id": "Qy6T6HOiGHaN"
      },
      "source": [
        "##### Indices, Slicing y Transformaciones"
      ]
    },
    {
      "cell_type": "code",
      "execution_count": 14,
      "metadata": {},
      "outputs": [
        {
          "data": {
            "text/plain": [
              "1"
            ]
          },
          "execution_count": 14,
          "metadata": {},
          "output_type": "execute_result"
        }
      ],
      "source": [
        "# Elegir un valor en la matriz\n",
        "arr_bis = np.array([[1,2,3],\n",
        "                    [7,1,6],\n",
        "                    [9,6,3]])\n",
        "arr_bis[0,0]"
      ]
    },
    {
      "cell_type": "code",
      "execution_count": 12,
      "metadata": {},
      "outputs": [
        {
          "data": {
            "text/plain": [
              "array([[1, 2],\n",
              "       [7, 1],\n",
              "       [9, 6]])"
            ]
          },
          "execution_count": 12,
          "metadata": {},
          "output_type": "execute_result"
        }
      ],
      "source": [
        "# Elija la submatriz en la matriz\n",
        "#Se escoge las 3 primeras filas y las dos primeras columnas\n",
        "arr_bis[0:3,0:2]"
      ]
    },
    {
      "cell_type": "code",
      "execution_count": 15,
      "metadata": {},
      "outputs": [
        {
          "name": "stdout",
          "output_type": "stream",
          "text": [
            "[1 2 3]\n",
            "[2 1 6]\n"
          ]
        }
      ],
      "source": [
        "# Elija una columna o una fila\n",
        "\n",
        "print(arr_bis[0,:])\n",
        "print(arr_bis[:,1])"
      ]
    },
    {
      "cell_type": "code",
      "execution_count": 23,
      "metadata": {},
      "outputs": [
        {
          "name": "stdout",
          "output_type": "stream",
          "text": [
            "9\n",
            "[3 7 9]\n",
            "[9 6 6]\n"
          ]
        }
      ],
      "source": [
        "# Maximo\n",
        "# De la matriz\n",
        "print(arr_bis.max())\n",
        "\n",
        "# Max por filas \n",
        "# axis=1 -> segunda dimension\n",
        "print(arr_bis.max(axis=1))\n",
        "\n",
        "# Max por columnas\n",
        "# axis=0 -> primera dimension\n",
        "print(arr_bis.max(axis=0))"
      ]
    },
    {
      "cell_type": "code",
      "execution_count": 25,
      "metadata": {},
      "outputs": [
        {
          "name": "stdout",
          "output_type": "stream",
          "text": [
            "1\n",
            "[1 1 3]\n",
            "[1 1 3]\n"
          ]
        }
      ],
      "source": [
        "# Minino\n",
        "# De la matriz\n",
        "print(arr_bis.min())\n",
        "\n",
        "# Min por filas \n",
        "# axis=1 -> segunda dimension\n",
        "print(arr_bis.min(axis=1))\n",
        "\n",
        "# Min por columnas\n",
        "# axis=0 -> primera dimension\n",
        "\n",
        "print(arr_bis.min(axis=0))"
      ]
    },
    {
      "cell_type": "code",
      "execution_count": 27,
      "metadata": {},
      "outputs": [
        {
          "name": "stdout",
          "output_type": "stream",
          "text": [
            "4.222222222222222\n",
            "[2.         4.66666667 6.        ]\n",
            "[5.66666667 3.         4.        ]\n"
          ]
        }
      ],
      "source": [
        "# Media - Promedio\n",
        "# De la matriz\n",
        "print(arr_bis.mean())\n",
        "\n",
        "# Media por filas\n",
        "# axis=1 -> segunda dimension\n",
        "print(arr_bis.mean(axis=1))\n",
        "\n",
        "# Por Columna\n",
        "# axis=0 -> primera dimension\n",
        "print(arr_bis.mean(axis=0))"
      ]
    },
    {
      "cell_type": "code",
      "execution_count": 35,
      "metadata": {},
      "outputs": [
        {
          "name": "stdout",
          "output_type": "stream",
          "text": [
            "2.698879511442471\n",
            "Desviacion por filas: [0.81649658 2.62466929 2.44948974]\n",
            "[3.39934634 2.1602469  1.41421356]\n",
            "Numpy version directa \n"
          ]
        },
        {
          "data": {
            "text/plain": [
              "array([3.39934634, 2.1602469 , 1.41421356])"
            ]
          },
          "execution_count": 35,
          "metadata": {},
          "output_type": "execute_result"
        }
      ],
      "source": [
        "# Desviacion Tipica std -> Standard desvi\n",
        "# De la matriz \n",
        "print(arr_bis.std())\n",
        "\n",
        "# Por filas\n",
        "print(\"Desviacion por filas:\",arr_bis.std(axis=1))\n",
        "\n",
        "# Por Columna\n",
        "print(arr_bis.std(axis=0))\n",
        "\n",
        "# Otras formas\n",
        "print(\"Numpy version directa \")\n",
        "np.std(arr_bis,axis=1)\n",
        "np.std(arr_bis,axis=0)"
      ]
    },
    {
      "cell_type": "code",
      "execution_count": 38,
      "metadata": {},
      "outputs": [
        {
          "data": {
            "text/plain": [
              "array([[0.        , 0.69314718, 1.09861229],\n",
              "       [1.94591015, 0.        , 1.79175947],\n",
              "       [2.19722458, 1.79175947, 1.09861229]])"
            ]
          },
          "execution_count": 38,
          "metadata": {},
          "output_type": "execute_result"
        }
      ],
      "source": [
        "# Logaritmo\n",
        "np.log(arr_bis)"
      ]
    },
    {
      "cell_type": "code",
      "execution_count": 42,
      "metadata": {},
      "outputs": [
        {
          "data": {
            "text/plain": [
              "array([[2.71828183e+00, 7.38905610e+00, 2.00855369e+01],\n",
              "       [1.09663316e+03, 2.71828183e+00, 4.03428793e+02],\n",
              "       [8.10308393e+03, 4.03428793e+02, 2.00855369e+01]])"
            ]
          },
          "execution_count": 42,
          "metadata": {},
          "output_type": "execute_result"
        }
      ],
      "source": [
        "# Exponencial\n",
        "np.exp(arr_bis)"
      ]
    },
    {
      "cell_type": "code",
      "execution_count": 43,
      "metadata": {},
      "outputs": [
        {
          "data": {
            "text/plain": [
              "array([[1.        , 1.41421356, 1.73205081],\n",
              "       [2.64575131, 1.        , 2.44948974],\n",
              "       [3.        , 2.44948974, 1.73205081]])"
            ]
          },
          "execution_count": 43,
          "metadata": {},
          "output_type": "execute_result"
        }
      ],
      "source": [
        "# Raiz Cuadrada\n",
        "np.sqrt(arr_bis)"
      ]
    },
    {
      "cell_type": "code",
      "execution_count": 88,
      "metadata": {},
      "outputs": [
        {
          "name": "stdout",
          "output_type": "stream",
          "text": [
            "ARR1 [2 1 6]\n",
            "ARR2 [3 6 3]\n",
            "[2 1 6 3 6 3]\n"
          ]
        }
      ],
      "source": [
        "# Concatenar\n",
        "# Parametro: tupla de arrays y el eje de la concatenacion\n",
        "# Concatenar unidimensional\n",
        "arr1 = arr_bis[:,1]\n",
        "arr2 = arr_bis[:,2]\n",
        "\n",
        "print(f\"ARR1 {arr1}\")\n",
        "print(f\"ARR2 {arr2}\")\n",
        "\n",
        "print(np.concatenate((arr1,arr2),axis=0))"
      ]
    },
    {
      "cell_type": "code",
      "execution_count": 97,
      "metadata": {},
      "outputs": [
        {
          "name": "stdout",
          "output_type": "stream",
          "text": [
            "ARR1 [[2]\n",
            " [1]\n",
            " [6]]\n",
            "ARR2 [[3]\n",
            " [6]\n",
            " [3]]\n",
            "Concatenacion [[2]\n",
            " [1]\n",
            " [6]\n",
            " [3]\n",
            " [6]\n",
            " [3]]\n"
          ]
        }
      ],
      "source": [
        "# Concatenar 2 dimesiones - apendizar\n",
        "arr1 = arr1.reshape(-1,1)\n",
        "arr2 = arr2.reshape(-1,1)\n",
        "\n",
        "print(f\"ARR1 {arr1}\")\n",
        "print(f\"ARR2 {arr2}\")\n",
        "\n",
        "print(f\"Concatenacion {np.concatenate((arr1,arr2),axis=0)}\")\n"
      ]
    },
    {
      "cell_type": "markdown",
      "metadata": {
        "id": "7ilLgwf1HIMw"
      },
      "source": [
        "### Pandas"
      ]
    },
    {
      "cell_type": "code",
      "execution_count": 98,
      "metadata": {},
      "outputs": [],
      "source": [
        "import pandas as pd\n",
        "import numpy as np"
      ]
    },
    {
      "cell_type": "markdown",
      "metadata": {},
      "source": [
        "##### Series - Unidimensional - se puede acceder utitlizando clave valor"
      ]
    },
    {
      "cell_type": "code",
      "execution_count": 109,
      "metadata": {},
      "outputs": [
        {
          "data": {
            "text/plain": [
              "['label 1', 'label 2', 'label 3']"
            ]
          },
          "execution_count": 109,
          "metadata": {},
          "output_type": "execute_result"
        }
      ],
      "source": [
        "labels = [\"label 1\",\"label 2\",\"label 3\"]\n",
        "list_values = [1,2,3]\n",
        "arr_values = np.array(list_values)\n",
        "\n",
        "labels"
      ]
    },
    {
      "cell_type": "code",
      "execution_count": 117,
      "metadata": {},
      "outputs": [
        {
          "data": {
            "text/plain": [
              "label 1    1\n",
              "label 2    2\n",
              "label 3    3\n",
              "dtype: int64"
            ]
          },
          "execution_count": 117,
          "metadata": {},
          "output_type": "execute_result"
        }
      ],
      "source": [
        "# Crear una serie usando una lista - despues de crear se puede acceder utilizando par clave valor\n",
        "pd.Series(list_values,index=labels)"
      ]
    },
    {
      "cell_type": "code",
      "execution_count": 118,
      "metadata": {},
      "outputs": [
        {
          "data": {
            "text/plain": [
              "label 1    1\n",
              "label 2    2\n",
              "label 3    3\n",
              "dtype: int64"
            ]
          },
          "execution_count": 118,
          "metadata": {},
          "output_type": "execute_result"
        }
      ],
      "source": [
        "# Crear una serie usando un array - despues de crear se puede acceder utilizando par clave valor\n",
        "pd.Series(arr_values,index=labels)"
      ]
    },
    {
      "cell_type": "code",
      "execution_count": null,
      "metadata": {},
      "outputs": [],
      "source": []
    },
    {
      "cell_type": "markdown",
      "metadata": {},
      "source": [
        "##### Dataframes - Bidimensional - se puede acceder utitlizando clave valor"
      ]
    },
    {
      "cell_type": "code",
      "execution_count": 119,
      "metadata": {},
      "outputs": [],
      "source": [
        "list_columns = [\"Col_1\", \"Col_2\", \"Col_3\"]\n",
        "list_index = [\"row_1\", \"row_2\", \"row_3\"]\n",
        "\n",
        "arr_bis = np.array([[1,2,3],\n",
        "                    [7,1,6],\n",
        "                    [9,6,9]]) "
      ]
    },
    {
      "cell_type": "code",
      "execution_count": 122,
      "metadata": {},
      "outputs": [
        {
          "data": {
            "text/html": [
              "<div>\n",
              "<style scoped>\n",
              "    .dataframe tbody tr th:only-of-type {\n",
              "        vertical-align: middle;\n",
              "    }\n",
              "\n",
              "    .dataframe tbody tr th {\n",
              "        vertical-align: top;\n",
              "    }\n",
              "\n",
              "    .dataframe thead th {\n",
              "        text-align: right;\n",
              "    }\n",
              "</style>\n",
              "<table border=\"1\" class=\"dataframe\">\n",
              "  <thead>\n",
              "    <tr style=\"text-align: right;\">\n",
              "      <th></th>\n",
              "      <th>0</th>\n",
              "      <th>1</th>\n",
              "      <th>2</th>\n",
              "    </tr>\n",
              "  </thead>\n",
              "  <tbody>\n",
              "    <tr>\n",
              "      <th>0</th>\n",
              "      <td>1</td>\n",
              "      <td>2</td>\n",
              "      <td>3</td>\n",
              "    </tr>\n",
              "    <tr>\n",
              "      <th>1</th>\n",
              "      <td>7</td>\n",
              "      <td>1</td>\n",
              "      <td>6</td>\n",
              "    </tr>\n",
              "    <tr>\n",
              "      <th>2</th>\n",
              "      <td>9</td>\n",
              "      <td>6</td>\n",
              "      <td>9</td>\n",
              "    </tr>\n",
              "  </tbody>\n",
              "</table>\n",
              "</div>"
            ],
            "text/plain": [
              "   0  1  2\n",
              "0  1  2  3\n",
              "1  7  1  6\n",
              "2  9  6  9"
            ]
          },
          "execution_count": 122,
          "metadata": {},
          "output_type": "execute_result"
        }
      ],
      "source": [
        "# Crear un dataframe desde un array\n",
        "pd.DataFrame(arr_bis)"
      ]
    },
    {
      "cell_type": "code",
      "execution_count": 123,
      "metadata": {},
      "outputs": [
        {
          "data": {
            "text/plain": [
              "array([[1, 2, 3],\n",
              "       [7, 1, 6],\n",
              "       [9, 6, 9]])"
            ]
          },
          "execution_count": 123,
          "metadata": {},
          "output_type": "execute_result"
        }
      ],
      "source": [
        "# Converir en array desde un dataframes\n",
        "pd.DataFrame(arr_bis).values"
      ]
    },
    {
      "cell_type": "code",
      "execution_count": 124,
      "metadata": {},
      "outputs": [
        {
          "data": {
            "text/html": [
              "<div>\n",
              "<style scoped>\n",
              "    .dataframe tbody tr th:only-of-type {\n",
              "        vertical-align: middle;\n",
              "    }\n",
              "\n",
              "    .dataframe tbody tr th {\n",
              "        vertical-align: top;\n",
              "    }\n",
              "\n",
              "    .dataframe thead th {\n",
              "        text-align: right;\n",
              "    }\n",
              "</style>\n",
              "<table border=\"1\" class=\"dataframe\">\n",
              "  <thead>\n",
              "    <tr style=\"text-align: right;\">\n",
              "      <th></th>\n",
              "      <th>Col_1</th>\n",
              "      <th>Col_2</th>\n",
              "      <th>Col_3</th>\n",
              "    </tr>\n",
              "  </thead>\n",
              "  <tbody>\n",
              "    <tr>\n",
              "      <th>row_1</th>\n",
              "      <td>1</td>\n",
              "      <td>2</td>\n",
              "      <td>3</td>\n",
              "    </tr>\n",
              "    <tr>\n",
              "      <th>row_2</th>\n",
              "      <td>7</td>\n",
              "      <td>1</td>\n",
              "      <td>6</td>\n",
              "    </tr>\n",
              "    <tr>\n",
              "      <th>row_3</th>\n",
              "      <td>9</td>\n",
              "      <td>6</td>\n",
              "      <td>9</td>\n",
              "    </tr>\n",
              "  </tbody>\n",
              "</table>\n",
              "</div>"
            ],
            "text/plain": [
              "       Col_1  Col_2  Col_3\n",
              "row_1      1      2      3\n",
              "row_2      7      1      6\n",
              "row_3      9      6      9"
            ]
          },
          "execution_count": 124,
          "metadata": {},
          "output_type": "execute_result"
        }
      ],
      "source": [
        "# Especificar filas/columnas\n",
        "pd.DataFrame(arr_bis,index=list_index,columns=list_columns)"
      ]
    },
    {
      "cell_type": "markdown",
      "metadata": {},
      "source": [
        "##### Cleaning and Selection"
      ]
    },
    {
      "cell_type": "code",
      "execution_count": 129,
      "metadata": {},
      "outputs": [
        {
          "data": {
            "text/html": [
              "<div>\n",
              "<style scoped>\n",
              "    .dataframe tbody tr th:only-of-type {\n",
              "        vertical-align: middle;\n",
              "    }\n",
              "\n",
              "    .dataframe tbody tr th {\n",
              "        vertical-align: top;\n",
              "    }\n",
              "\n",
              "    .dataframe thead th {\n",
              "        text-align: right;\n",
              "    }\n",
              "</style>\n",
              "<table border=\"1\" class=\"dataframe\">\n",
              "  <thead>\n",
              "    <tr style=\"text-align: right;\">\n",
              "      <th></th>\n",
              "      <th>Open MSFT</th>\n",
              "      <th>High MSFT</th>\n",
              "      <th>Low MSFT</th>\n",
              "      <th>Close MSFT</th>\n",
              "      <th>Volume MSFT</th>\n",
              "      <th>Open GOOG</th>\n",
              "      <th>High GOOG</th>\n",
              "      <th>Low GOOG</th>\n",
              "      <th>Close GOOG</th>\n",
              "      <th>Volume GOOG</th>\n",
              "      <th>...</th>\n",
              "      <th>Open EUROSTOCK50</th>\n",
              "      <th>High EUROSTOCK50</th>\n",
              "      <th>Low EUROSTOCK50</th>\n",
              "      <th>Close EUROSTOCK50</th>\n",
              "      <th>Volume EUROSTOCK50</th>\n",
              "      <th>Open INTEL</th>\n",
              "      <th>High INTEL</th>\n",
              "      <th>Low INTEL</th>\n",
              "      <th>Close INTEL</th>\n",
              "      <th>Volume INTEL</th>\n",
              "    </tr>\n",
              "    <tr>\n",
              "      <th>time</th>\n",
              "      <th></th>\n",
              "      <th></th>\n",
              "      <th></th>\n",
              "      <th></th>\n",
              "      <th></th>\n",
              "      <th></th>\n",
              "      <th></th>\n",
              "      <th></th>\n",
              "      <th></th>\n",
              "      <th></th>\n",
              "      <th></th>\n",
              "      <th></th>\n",
              "      <th></th>\n",
              "      <th></th>\n",
              "      <th></th>\n",
              "      <th></th>\n",
              "      <th></th>\n",
              "      <th></th>\n",
              "      <th></th>\n",
              "      <th></th>\n",
              "      <th></th>\n",
              "    </tr>\n",
              "  </thead>\n",
              "  <tbody>\n",
              "    <tr>\n",
              "      <th>2020-03-18</th>\n",
              "      <td>138.0</td>\n",
              "      <td>146.0000</td>\n",
              "      <td>135.02</td>\n",
              "      <td>140.40</td>\n",
              "      <td>80794307.0</td>\n",
              "      <td>1056.51</td>\n",
              "      <td>1106.50</td>\n",
              "      <td>1037.28</td>\n",
              "      <td>1096.80</td>\n",
              "      <td>4220935.0</td>\n",
              "      <td>...</td>\n",
              "      <td>2507.3301</td>\n",
              "      <td>2507.3301</td>\n",
              "      <td>2365.7000</td>\n",
              "      <td>2385.8201</td>\n",
              "      <td>98214900.0</td>\n",
              "      <td>30.24</td>\n",
              "      <td>32.4550</td>\n",
              "      <td>28.01</td>\n",
              "      <td>29.20</td>\n",
              "      <td>192337.0</td>\n",
              "    </tr>\n",
              "    <tr>\n",
              "      <th>2020-03-17</th>\n",
              "      <td>140.0</td>\n",
              "      <td>147.4998</td>\n",
              "      <td>135.00</td>\n",
              "      <td>146.57</td>\n",
              "      <td>81059817.0</td>\n",
              "      <td>1093.11</td>\n",
              "      <td>1130.86</td>\n",
              "      <td>1056.01</td>\n",
              "      <td>1119.80</td>\n",
              "      <td>3861489.0</td>\n",
              "      <td>...</td>\n",
              "      <td>2475.1799</td>\n",
              "      <td>2555.4099</td>\n",
              "      <td>2376.2300</td>\n",
              "      <td>2530.5000</td>\n",
              "      <td>106905300.0</td>\n",
              "      <td>29.06</td>\n",
              "      <td>33.8000</td>\n",
              "      <td>28.79</td>\n",
              "      <td>32.40</td>\n",
              "      <td>273967.0</td>\n",
              "    </tr>\n",
              "    <tr>\n",
              "      <th>2020-03-16</th>\n",
              "      <td>140.0</td>\n",
              "      <td>149.3500</td>\n",
              "      <td>135.00</td>\n",
              "      <td>135.42</td>\n",
              "      <td>87905868.0</td>\n",
              "      <td>1096.00</td>\n",
              "      <td>1152.27</td>\n",
              "      <td>1074.44</td>\n",
              "      <td>1084.33</td>\n",
              "      <td>4252365.0</td>\n",
              "      <td>...</td>\n",
              "      <td>2557.7100</td>\n",
              "      <td>2557.7100</td>\n",
              "      <td>2302.8401</td>\n",
              "      <td>2450.3701</td>\n",
              "      <td>137137000.0</td>\n",
              "      <td>30.11</td>\n",
              "      <td>32.8450</td>\n",
              "      <td>28.62</td>\n",
              "      <td>29.01</td>\n",
              "      <td>97928.0</td>\n",
              "    </tr>\n",
              "    <tr>\n",
              "      <th>2020-03-13</th>\n",
              "      <td>147.5</td>\n",
              "      <td>161.9100</td>\n",
              "      <td>140.73</td>\n",
              "      <td>158.83</td>\n",
              "      <td>92727446.0</td>\n",
              "      <td>1179.00</td>\n",
              "      <td>1219.76</td>\n",
              "      <td>1117.14</td>\n",
              "      <td>1219.73</td>\n",
              "      <td>3700125.0</td>\n",
              "      <td>...</td>\n",
              "      <td>2584.3601</td>\n",
              "      <td>2793.2700</td>\n",
              "      <td>2537.2700</td>\n",
              "      <td>2586.0200</td>\n",
              "      <td>136547100.0</td>\n",
              "      <td>33.87</td>\n",
              "      <td>35.0077</td>\n",
              "      <td>31.00</td>\n",
              "      <td>33.00</td>\n",
              "      <td>126388.0</td>\n",
              "    </tr>\n",
              "    <tr>\n",
              "      <th>2020-03-12</th>\n",
              "      <td>145.3</td>\n",
              "      <td>153.4700</td>\n",
              "      <td>138.58</td>\n",
              "      <td>139.06</td>\n",
              "      <td>93226366.0</td>\n",
              "      <td>1126.00</td>\n",
              "      <td>1193.87</td>\n",
              "      <td>1113.30</td>\n",
              "      <td>1114.91</td>\n",
              "      <td>4226748.0</td>\n",
              "      <td>...</td>\n",
              "      <td>2883.2500</td>\n",
              "      <td>2883.2500</td>\n",
              "      <td>2535.8899</td>\n",
              "      <td>2545.2300</td>\n",
              "      <td>167329900.0</td>\n",
              "      <td>35.29</td>\n",
              "      <td>36.0432</td>\n",
              "      <td>32.33</td>\n",
              "      <td>32.43</td>\n",
              "      <td>145336.0</td>\n",
              "    </tr>\n",
              "    <tr>\n",
              "      <th>...</th>\n",
              "      <td>...</td>\n",
              "      <td>...</td>\n",
              "      <td>...</td>\n",
              "      <td>...</td>\n",
              "      <td>...</td>\n",
              "      <td>...</td>\n",
              "      <td>...</td>\n",
              "      <td>...</td>\n",
              "      <td>...</td>\n",
              "      <td>...</td>\n",
              "      <td>...</td>\n",
              "      <td>...</td>\n",
              "      <td>...</td>\n",
              "      <td>...</td>\n",
              "      <td>...</td>\n",
              "      <td>...</td>\n",
              "      <td>...</td>\n",
              "      <td>...</td>\n",
              "      <td>...</td>\n",
              "      <td>...</td>\n",
              "      <td>...</td>\n",
              "    </tr>\n",
              "    <tr>\n",
              "      <th>2000-07-04</th>\n",
              "      <td>NaN</td>\n",
              "      <td>NaN</td>\n",
              "      <td>NaN</td>\n",
              "      <td>NaN</td>\n",
              "      <td>NaN</td>\n",
              "      <td>NaN</td>\n",
              "      <td>NaN</td>\n",
              "      <td>NaN</td>\n",
              "      <td>NaN</td>\n",
              "      <td>NaN</td>\n",
              "      <td>...</td>\n",
              "      <td>5185.8701</td>\n",
              "      <td>5185.8701</td>\n",
              "      <td>5185.8701</td>\n",
              "      <td>5185.8701</td>\n",
              "      <td>0.0</td>\n",
              "      <td>NaN</td>\n",
              "      <td>NaN</td>\n",
              "      <td>NaN</td>\n",
              "      <td>NaN</td>\n",
              "      <td>NaN</td>\n",
              "    </tr>\n",
              "    <tr>\n",
              "      <th>2000-05-29</th>\n",
              "      <td>NaN</td>\n",
              "      <td>NaN</td>\n",
              "      <td>NaN</td>\n",
              "      <td>NaN</td>\n",
              "      <td>NaN</td>\n",
              "      <td>NaN</td>\n",
              "      <td>NaN</td>\n",
              "      <td>NaN</td>\n",
              "      <td>NaN</td>\n",
              "      <td>NaN</td>\n",
              "      <td>...</td>\n",
              "      <td>5084.6899</td>\n",
              "      <td>5084.6899</td>\n",
              "      <td>5084.6899</td>\n",
              "      <td>5084.6899</td>\n",
              "      <td>0.0</td>\n",
              "      <td>NaN</td>\n",
              "      <td>NaN</td>\n",
              "      <td>NaN</td>\n",
              "      <td>NaN</td>\n",
              "      <td>NaN</td>\n",
              "    </tr>\n",
              "    <tr>\n",
              "      <th>2000-04-21</th>\n",
              "      <td>NaN</td>\n",
              "      <td>NaN</td>\n",
              "      <td>NaN</td>\n",
              "      <td>NaN</td>\n",
              "      <td>NaN</td>\n",
              "      <td>NaN</td>\n",
              "      <td>NaN</td>\n",
              "      <td>NaN</td>\n",
              "      <td>NaN</td>\n",
              "      <td>NaN</td>\n",
              "      <td>...</td>\n",
              "      <td>5180.1184</td>\n",
              "      <td>5207.4892</td>\n",
              "      <td>5132.2034</td>\n",
              "      <td>5170.3844</td>\n",
              "      <td>722995.0</td>\n",
              "      <td>NaN</td>\n",
              "      <td>NaN</td>\n",
              "      <td>NaN</td>\n",
              "      <td>NaN</td>\n",
              "      <td>NaN</td>\n",
              "    </tr>\n",
              "    <tr>\n",
              "      <th>2000-02-21</th>\n",
              "      <td>NaN</td>\n",
              "      <td>NaN</td>\n",
              "      <td>NaN</td>\n",
              "      <td>NaN</td>\n",
              "      <td>NaN</td>\n",
              "      <td>NaN</td>\n",
              "      <td>NaN</td>\n",
              "      <td>NaN</td>\n",
              "      <td>NaN</td>\n",
              "      <td>NaN</td>\n",
              "      <td>...</td>\n",
              "      <td>5033.3301</td>\n",
              "      <td>5033.3301</td>\n",
              "      <td>5033.3301</td>\n",
              "      <td>5033.3301</td>\n",
              "      <td>0.0</td>\n",
              "      <td>NaN</td>\n",
              "      <td>NaN</td>\n",
              "      <td>NaN</td>\n",
              "      <td>NaN</td>\n",
              "      <td>NaN</td>\n",
              "    </tr>\n",
              "    <tr>\n",
              "      <th>2000-01-17</th>\n",
              "      <td>NaN</td>\n",
              "      <td>NaN</td>\n",
              "      <td>NaN</td>\n",
              "      <td>NaN</td>\n",
              "      <td>NaN</td>\n",
              "      <td>NaN</td>\n",
              "      <td>NaN</td>\n",
              "      <td>NaN</td>\n",
              "      <td>NaN</td>\n",
              "      <td>NaN</td>\n",
              "      <td>...</td>\n",
              "      <td>4884.5000</td>\n",
              "      <td>4884.5000</td>\n",
              "      <td>4884.5000</td>\n",
              "      <td>4884.5000</td>\n",
              "      <td>0.0</td>\n",
              "      <td>NaN</td>\n",
              "      <td>NaN</td>\n",
              "      <td>NaN</td>\n",
              "      <td>NaN</td>\n",
              "      <td>NaN</td>\n",
              "    </tr>\n",
              "  </tbody>\n",
              "</table>\n",
              "<p>5732 rows × 80 columns</p>\n",
              "</div>"
            ],
            "text/plain": [
              "            Open MSFT  High MSFT  Low MSFT  Close MSFT  Volume MSFT  \\\n",
              "time                                                                  \n",
              "2020-03-18      138.0   146.0000    135.02      140.40   80794307.0   \n",
              "2020-03-17      140.0   147.4998    135.00      146.57   81059817.0   \n",
              "2020-03-16      140.0   149.3500    135.00      135.42   87905868.0   \n",
              "2020-03-13      147.5   161.9100    140.73      158.83   92727446.0   \n",
              "2020-03-12      145.3   153.4700    138.58      139.06   93226366.0   \n",
              "...               ...        ...       ...         ...          ...   \n",
              "2000-07-04        NaN        NaN       NaN         NaN          NaN   \n",
              "2000-05-29        NaN        NaN       NaN         NaN          NaN   \n",
              "2000-04-21        NaN        NaN       NaN         NaN          NaN   \n",
              "2000-02-21        NaN        NaN       NaN         NaN          NaN   \n",
              "2000-01-17        NaN        NaN       NaN         NaN          NaN   \n",
              "\n",
              "            Open GOOG  High GOOG  Low GOOG  Close GOOG  Volume GOOG  ...  \\\n",
              "time                                                                 ...   \n",
              "2020-03-18    1056.51    1106.50   1037.28     1096.80    4220935.0  ...   \n",
              "2020-03-17    1093.11    1130.86   1056.01     1119.80    3861489.0  ...   \n",
              "2020-03-16    1096.00    1152.27   1074.44     1084.33    4252365.0  ...   \n",
              "2020-03-13    1179.00    1219.76   1117.14     1219.73    3700125.0  ...   \n",
              "2020-03-12    1126.00    1193.87   1113.30     1114.91    4226748.0  ...   \n",
              "...               ...        ...       ...         ...          ...  ...   \n",
              "2000-07-04        NaN        NaN       NaN         NaN          NaN  ...   \n",
              "2000-05-29        NaN        NaN       NaN         NaN          NaN  ...   \n",
              "2000-04-21        NaN        NaN       NaN         NaN          NaN  ...   \n",
              "2000-02-21        NaN        NaN       NaN         NaN          NaN  ...   \n",
              "2000-01-17        NaN        NaN       NaN         NaN          NaN  ...   \n",
              "\n",
              "            Open EUROSTOCK50  High EUROSTOCK50  Low EUROSTOCK50  \\\n",
              "time                                                              \n",
              "2020-03-18         2507.3301         2507.3301        2365.7000   \n",
              "2020-03-17         2475.1799         2555.4099        2376.2300   \n",
              "2020-03-16         2557.7100         2557.7100        2302.8401   \n",
              "2020-03-13         2584.3601         2793.2700        2537.2700   \n",
              "2020-03-12         2883.2500         2883.2500        2535.8899   \n",
              "...                      ...               ...              ...   \n",
              "2000-07-04         5185.8701         5185.8701        5185.8701   \n",
              "2000-05-29         5084.6899         5084.6899        5084.6899   \n",
              "2000-04-21         5180.1184         5207.4892        5132.2034   \n",
              "2000-02-21         5033.3301         5033.3301        5033.3301   \n",
              "2000-01-17         4884.5000         4884.5000        4884.5000   \n",
              "\n",
              "            Close EUROSTOCK50  Volume EUROSTOCK50  Open INTEL  High INTEL  \\\n",
              "time                                                                        \n",
              "2020-03-18          2385.8201          98214900.0       30.24     32.4550   \n",
              "2020-03-17          2530.5000         106905300.0       29.06     33.8000   \n",
              "2020-03-16          2450.3701         137137000.0       30.11     32.8450   \n",
              "2020-03-13          2586.0200         136547100.0       33.87     35.0077   \n",
              "2020-03-12          2545.2300         167329900.0       35.29     36.0432   \n",
              "...                       ...                 ...         ...         ...   \n",
              "2000-07-04          5185.8701                 0.0         NaN         NaN   \n",
              "2000-05-29          5084.6899                 0.0         NaN         NaN   \n",
              "2000-04-21          5170.3844            722995.0         NaN         NaN   \n",
              "2000-02-21          5033.3301                 0.0         NaN         NaN   \n",
              "2000-01-17          4884.5000                 0.0         NaN         NaN   \n",
              "\n",
              "            Low INTEL  Close INTEL  Volume INTEL  \n",
              "time                                              \n",
              "2020-03-18      28.01        29.20      192337.0  \n",
              "2020-03-17      28.79        32.40      273967.0  \n",
              "2020-03-16      28.62        29.01       97928.0  \n",
              "2020-03-13      31.00        33.00      126388.0  \n",
              "2020-03-12      32.33        32.43      145336.0  \n",
              "...               ...          ...           ...  \n",
              "2000-07-04        NaN          NaN           NaN  \n",
              "2000-05-29        NaN          NaN           NaN  \n",
              "2000-04-21        NaN          NaN           NaN  \n",
              "2000-02-21        NaN          NaN           NaN  \n",
              "2000-01-17        NaN          NaN           NaN  \n",
              "\n",
              "[5732 rows x 80 columns]"
            ]
          },
          "execution_count": 129,
          "metadata": {},
          "output_type": "execute_result"
        }
      ],
      "source": [
        "# Import un CSV\n",
        "assets = pd.read_csv(\"./assets.csv\", parse_dates=True, index_col=\"time\")\n",
        "assets"
      ]
    },
    {
      "cell_type": "code",
      "execution_count": 131,
      "metadata": {},
      "outputs": [
        {
          "data": {
            "text/html": [
              "<div>\n",
              "<style scoped>\n",
              "    .dataframe tbody tr th:only-of-type {\n",
              "        vertical-align: middle;\n",
              "    }\n",
              "\n",
              "    .dataframe tbody tr th {\n",
              "        vertical-align: top;\n",
              "    }\n",
              "\n",
              "    .dataframe thead th {\n",
              "        text-align: right;\n",
              "    }\n",
              "</style>\n",
              "<table border=\"1\" class=\"dataframe\">\n",
              "  <thead>\n",
              "    <tr style=\"text-align: right;\">\n",
              "      <th></th>\n",
              "      <th>Open MSFT</th>\n",
              "      <th>High MSFT</th>\n",
              "      <th>Low MSFT</th>\n",
              "      <th>Close MSFT</th>\n",
              "      <th>Volume MSFT</th>\n",
              "      <th>Open GOOG</th>\n",
              "      <th>High GOOG</th>\n",
              "      <th>Low GOOG</th>\n",
              "      <th>Close GOOG</th>\n",
              "      <th>Volume GOOG</th>\n",
              "      <th>...</th>\n",
              "      <th>Open EUROSTOCK50</th>\n",
              "      <th>High EUROSTOCK50</th>\n",
              "      <th>Low EUROSTOCK50</th>\n",
              "      <th>Close EUROSTOCK50</th>\n",
              "      <th>Volume EUROSTOCK50</th>\n",
              "      <th>Open INTEL</th>\n",
              "      <th>High INTEL</th>\n",
              "      <th>Low INTEL</th>\n",
              "      <th>Close INTEL</th>\n",
              "      <th>Volume INTEL</th>\n",
              "    </tr>\n",
              "    <tr>\n",
              "      <th>time</th>\n",
              "      <th></th>\n",
              "      <th></th>\n",
              "      <th></th>\n",
              "      <th></th>\n",
              "      <th></th>\n",
              "      <th></th>\n",
              "      <th></th>\n",
              "      <th></th>\n",
              "      <th></th>\n",
              "      <th></th>\n",
              "      <th></th>\n",
              "      <th></th>\n",
              "      <th></th>\n",
              "      <th></th>\n",
              "      <th></th>\n",
              "      <th></th>\n",
              "      <th></th>\n",
              "      <th></th>\n",
              "      <th></th>\n",
              "      <th></th>\n",
              "      <th></th>\n",
              "    </tr>\n",
              "  </thead>\n",
              "  <tbody>\n",
              "    <tr>\n",
              "      <th>2000-01-03</th>\n",
              "      <td>NaN</td>\n",
              "      <td>NaN</td>\n",
              "      <td>NaN</td>\n",
              "      <td>NaN</td>\n",
              "      <td>NaN</td>\n",
              "      <td>NaN</td>\n",
              "      <td>NaN</td>\n",
              "      <td>NaN</td>\n",
              "      <td>NaN</td>\n",
              "      <td>NaN</td>\n",
              "      <td>...</td>\n",
              "      <td>4849.2202</td>\n",
              "      <td>4849.2202</td>\n",
              "      <td>4849.2202</td>\n",
              "      <td>4849.2202</td>\n",
              "      <td>0.0</td>\n",
              "      <td>NaN</td>\n",
              "      <td>NaN</td>\n",
              "      <td>NaN</td>\n",
              "      <td>NaN</td>\n",
              "      <td>NaN</td>\n",
              "    </tr>\n",
              "    <tr>\n",
              "      <th>2000-01-04</th>\n",
              "      <td>NaN</td>\n",
              "      <td>NaN</td>\n",
              "      <td>NaN</td>\n",
              "      <td>NaN</td>\n",
              "      <td>NaN</td>\n",
              "      <td>NaN</td>\n",
              "      <td>NaN</td>\n",
              "      <td>NaN</td>\n",
              "      <td>NaN</td>\n",
              "      <td>NaN</td>\n",
              "      <td>...</td>\n",
              "      <td>4657.8301</td>\n",
              "      <td>4657.8301</td>\n",
              "      <td>4657.8301</td>\n",
              "      <td>4657.8301</td>\n",
              "      <td>0.0</td>\n",
              "      <td>NaN</td>\n",
              "      <td>NaN</td>\n",
              "      <td>NaN</td>\n",
              "      <td>NaN</td>\n",
              "      <td>NaN</td>\n",
              "    </tr>\n",
              "    <tr>\n",
              "      <th>2000-01-05</th>\n",
              "      <td>NaN</td>\n",
              "      <td>NaN</td>\n",
              "      <td>NaN</td>\n",
              "      <td>NaN</td>\n",
              "      <td>NaN</td>\n",
              "      <td>NaN</td>\n",
              "      <td>NaN</td>\n",
              "      <td>NaN</td>\n",
              "      <td>NaN</td>\n",
              "      <td>NaN</td>\n",
              "      <td>...</td>\n",
              "      <td>4541.7500</td>\n",
              "      <td>4541.7500</td>\n",
              "      <td>4541.7500</td>\n",
              "      <td>4541.7500</td>\n",
              "      <td>0.0</td>\n",
              "      <td>NaN</td>\n",
              "      <td>NaN</td>\n",
              "      <td>NaN</td>\n",
              "      <td>NaN</td>\n",
              "      <td>NaN</td>\n",
              "    </tr>\n",
              "    <tr>\n",
              "      <th>2000-01-06</th>\n",
              "      <td>NaN</td>\n",
              "      <td>NaN</td>\n",
              "      <td>NaN</td>\n",
              "      <td>NaN</td>\n",
              "      <td>NaN</td>\n",
              "      <td>NaN</td>\n",
              "      <td>NaN</td>\n",
              "      <td>NaN</td>\n",
              "      <td>NaN</td>\n",
              "      <td>NaN</td>\n",
              "      <td>...</td>\n",
              "      <td>4500.6899</td>\n",
              "      <td>4500.6899</td>\n",
              "      <td>4500.6899</td>\n",
              "      <td>4500.6899</td>\n",
              "      <td>0.0</td>\n",
              "      <td>NaN</td>\n",
              "      <td>NaN</td>\n",
              "      <td>NaN</td>\n",
              "      <td>NaN</td>\n",
              "      <td>NaN</td>\n",
              "    </tr>\n",
              "    <tr>\n",
              "      <th>2000-01-07</th>\n",
              "      <td>NaN</td>\n",
              "      <td>NaN</td>\n",
              "      <td>NaN</td>\n",
              "      <td>NaN</td>\n",
              "      <td>NaN</td>\n",
              "      <td>NaN</td>\n",
              "      <td>NaN</td>\n",
              "      <td>NaN</td>\n",
              "      <td>NaN</td>\n",
              "      <td>NaN</td>\n",
              "      <td>...</td>\n",
              "      <td>4648.2700</td>\n",
              "      <td>4648.2700</td>\n",
              "      <td>4648.2700</td>\n",
              "      <td>4648.2700</td>\n",
              "      <td>0.0</td>\n",
              "      <td>NaN</td>\n",
              "      <td>NaN</td>\n",
              "      <td>NaN</td>\n",
              "      <td>NaN</td>\n",
              "      <td>NaN</td>\n",
              "    </tr>\n",
              "    <tr>\n",
              "      <th>...</th>\n",
              "      <td>...</td>\n",
              "      <td>...</td>\n",
              "      <td>...</td>\n",
              "      <td>...</td>\n",
              "      <td>...</td>\n",
              "      <td>...</td>\n",
              "      <td>...</td>\n",
              "      <td>...</td>\n",
              "      <td>...</td>\n",
              "      <td>...</td>\n",
              "      <td>...</td>\n",
              "      <td>...</td>\n",
              "      <td>...</td>\n",
              "      <td>...</td>\n",
              "      <td>...</td>\n",
              "      <td>...</td>\n",
              "      <td>...</td>\n",
              "      <td>...</td>\n",
              "      <td>...</td>\n",
              "      <td>...</td>\n",
              "      <td>...</td>\n",
              "    </tr>\n",
              "    <tr>\n",
              "      <th>2020-03-15</th>\n",
              "      <td>NaN</td>\n",
              "      <td>NaN</td>\n",
              "      <td>NaN</td>\n",
              "      <td>NaN</td>\n",
              "      <td>NaN</td>\n",
              "      <td>NaN</td>\n",
              "      <td>NaN</td>\n",
              "      <td>NaN</td>\n",
              "      <td>NaN</td>\n",
              "      <td>NaN</td>\n",
              "      <td>...</td>\n",
              "      <td>NaN</td>\n",
              "      <td>NaN</td>\n",
              "      <td>NaN</td>\n",
              "      <td>NaN</td>\n",
              "      <td>NaN</td>\n",
              "      <td>NaN</td>\n",
              "      <td>NaN</td>\n",
              "      <td>NaN</td>\n",
              "      <td>NaN</td>\n",
              "      <td>NaN</td>\n",
              "    </tr>\n",
              "    <tr>\n",
              "      <th>2020-03-16</th>\n",
              "      <td>140.0</td>\n",
              "      <td>149.3500</td>\n",
              "      <td>135.00</td>\n",
              "      <td>135.42</td>\n",
              "      <td>87905868.0</td>\n",
              "      <td>1096.00</td>\n",
              "      <td>1152.27</td>\n",
              "      <td>1074.44</td>\n",
              "      <td>1084.33</td>\n",
              "      <td>4252365.0</td>\n",
              "      <td>...</td>\n",
              "      <td>2557.7100</td>\n",
              "      <td>2557.7100</td>\n",
              "      <td>2302.8401</td>\n",
              "      <td>2450.3701</td>\n",
              "      <td>137137000.0</td>\n",
              "      <td>30.11</td>\n",
              "      <td>32.845</td>\n",
              "      <td>28.62</td>\n",
              "      <td>29.01</td>\n",
              "      <td>97928.0</td>\n",
              "    </tr>\n",
              "    <tr>\n",
              "      <th>2020-03-17</th>\n",
              "      <td>140.0</td>\n",
              "      <td>147.4998</td>\n",
              "      <td>135.00</td>\n",
              "      <td>146.57</td>\n",
              "      <td>81059817.0</td>\n",
              "      <td>1093.11</td>\n",
              "      <td>1130.86</td>\n",
              "      <td>1056.01</td>\n",
              "      <td>1119.80</td>\n",
              "      <td>3861489.0</td>\n",
              "      <td>...</td>\n",
              "      <td>2475.1799</td>\n",
              "      <td>2555.4099</td>\n",
              "      <td>2376.2300</td>\n",
              "      <td>2530.5000</td>\n",
              "      <td>106905300.0</td>\n",
              "      <td>29.06</td>\n",
              "      <td>33.800</td>\n",
              "      <td>28.79</td>\n",
              "      <td>32.40</td>\n",
              "      <td>273967.0</td>\n",
              "    </tr>\n",
              "    <tr>\n",
              "      <th>2020-03-18</th>\n",
              "      <td>138.0</td>\n",
              "      <td>146.0000</td>\n",
              "      <td>135.02</td>\n",
              "      <td>140.40</td>\n",
              "      <td>80794307.0</td>\n",
              "      <td>1056.51</td>\n",
              "      <td>1106.50</td>\n",
              "      <td>1037.28</td>\n",
              "      <td>1096.80</td>\n",
              "      <td>4220935.0</td>\n",
              "      <td>...</td>\n",
              "      <td>2507.3301</td>\n",
              "      <td>2507.3301</td>\n",
              "      <td>2365.7000</td>\n",
              "      <td>2385.8201</td>\n",
              "      <td>98214900.0</td>\n",
              "      <td>30.24</td>\n",
              "      <td>32.455</td>\n",
              "      <td>28.01</td>\n",
              "      <td>29.20</td>\n",
              "      <td>192337.0</td>\n",
              "    </tr>\n",
              "    <tr>\n",
              "      <th>2020-03-19</th>\n",
              "      <td>NaN</td>\n",
              "      <td>NaN</td>\n",
              "      <td>NaN</td>\n",
              "      <td>NaN</td>\n",
              "      <td>NaN</td>\n",
              "      <td>NaN</td>\n",
              "      <td>NaN</td>\n",
              "      <td>NaN</td>\n",
              "      <td>NaN</td>\n",
              "      <td>NaN</td>\n",
              "      <td>...</td>\n",
              "      <td>NaN</td>\n",
              "      <td>NaN</td>\n",
              "      <td>NaN</td>\n",
              "      <td>NaN</td>\n",
              "      <td>NaN</td>\n",
              "      <td>NaN</td>\n",
              "      <td>NaN</td>\n",
              "      <td>NaN</td>\n",
              "      <td>NaN</td>\n",
              "      <td>NaN</td>\n",
              "    </tr>\n",
              "  </tbody>\n",
              "</table>\n",
              "<p>5732 rows × 80 columns</p>\n",
              "</div>"
            ],
            "text/plain": [
              "            Open MSFT  High MSFT  Low MSFT  Close MSFT  Volume MSFT  \\\n",
              "time                                                                  \n",
              "2000-01-03        NaN        NaN       NaN         NaN          NaN   \n",
              "2000-01-04        NaN        NaN       NaN         NaN          NaN   \n",
              "2000-01-05        NaN        NaN       NaN         NaN          NaN   \n",
              "2000-01-06        NaN        NaN       NaN         NaN          NaN   \n",
              "2000-01-07        NaN        NaN       NaN         NaN          NaN   \n",
              "...               ...        ...       ...         ...          ...   \n",
              "2020-03-15        NaN        NaN       NaN         NaN          NaN   \n",
              "2020-03-16      140.0   149.3500    135.00      135.42   87905868.0   \n",
              "2020-03-17      140.0   147.4998    135.00      146.57   81059817.0   \n",
              "2020-03-18      138.0   146.0000    135.02      140.40   80794307.0   \n",
              "2020-03-19        NaN        NaN       NaN         NaN          NaN   \n",
              "\n",
              "            Open GOOG  High GOOG  Low GOOG  Close GOOG  Volume GOOG  ...  \\\n",
              "time                                                                 ...   \n",
              "2000-01-03        NaN        NaN       NaN         NaN          NaN  ...   \n",
              "2000-01-04        NaN        NaN       NaN         NaN          NaN  ...   \n",
              "2000-01-05        NaN        NaN       NaN         NaN          NaN  ...   \n",
              "2000-01-06        NaN        NaN       NaN         NaN          NaN  ...   \n",
              "2000-01-07        NaN        NaN       NaN         NaN          NaN  ...   \n",
              "...               ...        ...       ...         ...          ...  ...   \n",
              "2020-03-15        NaN        NaN       NaN         NaN          NaN  ...   \n",
              "2020-03-16    1096.00    1152.27   1074.44     1084.33    4252365.0  ...   \n",
              "2020-03-17    1093.11    1130.86   1056.01     1119.80    3861489.0  ...   \n",
              "2020-03-18    1056.51    1106.50   1037.28     1096.80    4220935.0  ...   \n",
              "2020-03-19        NaN        NaN       NaN         NaN          NaN  ...   \n",
              "\n",
              "            Open EUROSTOCK50  High EUROSTOCK50  Low EUROSTOCK50  \\\n",
              "time                                                              \n",
              "2000-01-03         4849.2202         4849.2202        4849.2202   \n",
              "2000-01-04         4657.8301         4657.8301        4657.8301   \n",
              "2000-01-05         4541.7500         4541.7500        4541.7500   \n",
              "2000-01-06         4500.6899         4500.6899        4500.6899   \n",
              "2000-01-07         4648.2700         4648.2700        4648.2700   \n",
              "...                      ...               ...              ...   \n",
              "2020-03-15               NaN               NaN              NaN   \n",
              "2020-03-16         2557.7100         2557.7100        2302.8401   \n",
              "2020-03-17         2475.1799         2555.4099        2376.2300   \n",
              "2020-03-18         2507.3301         2507.3301        2365.7000   \n",
              "2020-03-19               NaN               NaN              NaN   \n",
              "\n",
              "            Close EUROSTOCK50  Volume EUROSTOCK50  Open INTEL  High INTEL  \\\n",
              "time                                                                        \n",
              "2000-01-03          4849.2202                 0.0         NaN         NaN   \n",
              "2000-01-04          4657.8301                 0.0         NaN         NaN   \n",
              "2000-01-05          4541.7500                 0.0         NaN         NaN   \n",
              "2000-01-06          4500.6899                 0.0         NaN         NaN   \n",
              "2000-01-07          4648.2700                 0.0         NaN         NaN   \n",
              "...                       ...                 ...         ...         ...   \n",
              "2020-03-15                NaN                 NaN         NaN         NaN   \n",
              "2020-03-16          2450.3701         137137000.0       30.11      32.845   \n",
              "2020-03-17          2530.5000         106905300.0       29.06      33.800   \n",
              "2020-03-18          2385.8201          98214900.0       30.24      32.455   \n",
              "2020-03-19                NaN                 NaN         NaN         NaN   \n",
              "\n",
              "            Low INTEL  Close INTEL  Volume INTEL  \n",
              "time                                              \n",
              "2000-01-03        NaN          NaN           NaN  \n",
              "2000-01-04        NaN          NaN           NaN  \n",
              "2000-01-05        NaN          NaN           NaN  \n",
              "2000-01-06        NaN          NaN           NaN  \n",
              "2000-01-07        NaN          NaN           NaN  \n",
              "...               ...          ...           ...  \n",
              "2020-03-15        NaN          NaN           NaN  \n",
              "2020-03-16      28.62        29.01       97928.0  \n",
              "2020-03-17      28.79        32.40      273967.0  \n",
              "2020-03-18      28.01        29.20      192337.0  \n",
              "2020-03-19        NaN          NaN           NaN  \n",
              "\n",
              "[5732 rows x 80 columns]"
            ]
          },
          "execution_count": 131,
          "metadata": {},
          "output_type": "execute_result"
        }
      ],
      "source": [
        "# Ordenar\n",
        "assets = assets.sort_index(ascending=True)\n",
        "assets"
      ]
    },
    {
      "cell_type": "code",
      "execution_count": 133,
      "metadata": {},
      "outputs": [
        {
          "data": {
            "text/html": [
              "<div>\n",
              "<style scoped>\n",
              "    .dataframe tbody tr th:only-of-type {\n",
              "        vertical-align: middle;\n",
              "    }\n",
              "\n",
              "    .dataframe tbody tr th {\n",
              "        vertical-align: top;\n",
              "    }\n",
              "\n",
              "    .dataframe thead th {\n",
              "        text-align: right;\n",
              "    }\n",
              "</style>\n",
              "<table border=\"1\" class=\"dataframe\">\n",
              "  <thead>\n",
              "    <tr style=\"text-align: right;\">\n",
              "      <th></th>\n",
              "      <th>Close DJI30</th>\n",
              "      <th>Close CAC40</th>\n",
              "      <th>Close SP500</th>\n",
              "    </tr>\n",
              "    <tr>\n",
              "      <th>time</th>\n",
              "      <th></th>\n",
              "      <th></th>\n",
              "      <th></th>\n",
              "    </tr>\n",
              "  </thead>\n",
              "  <tbody>\n",
              "    <tr>\n",
              "      <th>2000-01-03</th>\n",
              "      <td>11357.5098</td>\n",
              "      <td>5917.3701</td>\n",
              "      <td>1455.2200</td>\n",
              "    </tr>\n",
              "    <tr>\n",
              "      <th>2000-01-04</th>\n",
              "      <td>10997.9297</td>\n",
              "      <td>5672.0200</td>\n",
              "      <td>1399.4200</td>\n",
              "    </tr>\n",
              "    <tr>\n",
              "      <th>2000-01-05</th>\n",
              "      <td>11122.6504</td>\n",
              "      <td>5479.7002</td>\n",
              "      <td>1402.1100</td>\n",
              "    </tr>\n",
              "    <tr>\n",
              "      <th>2000-01-06</th>\n",
              "      <td>11253.2598</td>\n",
              "      <td>5450.1099</td>\n",
              "      <td>1403.4500</td>\n",
              "    </tr>\n",
              "    <tr>\n",
              "      <th>2000-01-07</th>\n",
              "      <td>11522.5596</td>\n",
              "      <td>5539.6099</td>\n",
              "      <td>1441.4700</td>\n",
              "    </tr>\n",
              "    <tr>\n",
              "      <th>...</th>\n",
              "      <td>...</td>\n",
              "      <td>...</td>\n",
              "      <td>...</td>\n",
              "    </tr>\n",
              "    <tr>\n",
              "      <th>2020-03-15</th>\n",
              "      <td>NaN</td>\n",
              "      <td>NaN</td>\n",
              "      <td>NaN</td>\n",
              "    </tr>\n",
              "    <tr>\n",
              "      <th>2020-03-16</th>\n",
              "      <td>20188.5195</td>\n",
              "      <td>3881.4600</td>\n",
              "      <td>2426.6181</td>\n",
              "    </tr>\n",
              "    <tr>\n",
              "      <th>2020-03-17</th>\n",
              "      <td>21237.3809</td>\n",
              "      <td>3991.7800</td>\n",
              "      <td>2436.5000</td>\n",
              "    </tr>\n",
              "    <tr>\n",
              "      <th>2020-03-18</th>\n",
              "      <td>19898.9199</td>\n",
              "      <td>3754.8401</td>\n",
              "      <td>2398.1001</td>\n",
              "    </tr>\n",
              "    <tr>\n",
              "      <th>2020-03-19</th>\n",
              "      <td>NaN</td>\n",
              "      <td>NaN</td>\n",
              "      <td>NaN</td>\n",
              "    </tr>\n",
              "  </tbody>\n",
              "</table>\n",
              "<p>5732 rows × 3 columns</p>\n",
              "</div>"
            ],
            "text/plain": [
              "            Close DJI30  Close CAC40  Close SP500\n",
              "time                                             \n",
              "2000-01-03   11357.5098    5917.3701    1455.2200\n",
              "2000-01-04   10997.9297    5672.0200    1399.4200\n",
              "2000-01-05   11122.6504    5479.7002    1402.1100\n",
              "2000-01-06   11253.2598    5450.1099    1403.4500\n",
              "2000-01-07   11522.5596    5539.6099    1441.4700\n",
              "...                 ...          ...          ...\n",
              "2020-03-15          NaN          NaN          NaN\n",
              "2020-03-16   20188.5195    3881.4600    2426.6181\n",
              "2020-03-17   21237.3809    3991.7800    2436.5000\n",
              "2020-03-18   19898.9199    3754.8401    2398.1001\n",
              "2020-03-19          NaN          NaN          NaN\n",
              "\n",
              "[5732 rows x 3 columns]"
            ]
          },
          "execution_count": 133,
          "metadata": {},
          "output_type": "execute_result"
        }
      ],
      "source": [
        "# Seleccionar una columna\n",
        "assets = assets[[\"Close DJI30\",\"Close CAC40\",\"Close SP500\"]]\n",
        "assets"
      ]
    },
    {
      "cell_type": "code",
      "execution_count": 134,
      "metadata": {},
      "outputs": [
        {
          "data": {
            "text/html": [
              "<div>\n",
              "<style scoped>\n",
              "    .dataframe tbody tr th:only-of-type {\n",
              "        vertical-align: middle;\n",
              "    }\n",
              "\n",
              "    .dataframe tbody tr th {\n",
              "        vertical-align: top;\n",
              "    }\n",
              "\n",
              "    .dataframe thead th {\n",
              "        text-align: right;\n",
              "    }\n",
              "</style>\n",
              "<table border=\"1\" class=\"dataframe\">\n",
              "  <thead>\n",
              "    <tr style=\"text-align: right;\">\n",
              "      <th></th>\n",
              "      <th>Close DJI30</th>\n",
              "      <th>Close CAC40</th>\n",
              "      <th>Close SP500</th>\n",
              "    </tr>\n",
              "    <tr>\n",
              "      <th>time</th>\n",
              "      <th></th>\n",
              "      <th></th>\n",
              "      <th></th>\n",
              "    </tr>\n",
              "  </thead>\n",
              "  <tbody>\n",
              "    <tr>\n",
              "      <th>2000-01-03</th>\n",
              "      <td>11357.5098</td>\n",
              "      <td>5917.3701</td>\n",
              "      <td>1455.2200</td>\n",
              "    </tr>\n",
              "    <tr>\n",
              "      <th>2000-01-04</th>\n",
              "      <td>10997.9297</td>\n",
              "      <td>5672.0200</td>\n",
              "      <td>1399.4200</td>\n",
              "    </tr>\n",
              "    <tr>\n",
              "      <th>2000-01-05</th>\n",
              "      <td>11122.6504</td>\n",
              "      <td>5479.7002</td>\n",
              "      <td>1402.1100</td>\n",
              "    </tr>\n",
              "    <tr>\n",
              "      <th>2000-01-06</th>\n",
              "      <td>11253.2598</td>\n",
              "      <td>5450.1099</td>\n",
              "      <td>1403.4500</td>\n",
              "    </tr>\n",
              "    <tr>\n",
              "      <th>2000-01-07</th>\n",
              "      <td>11522.5596</td>\n",
              "      <td>5539.6099</td>\n",
              "      <td>1441.4700</td>\n",
              "    </tr>\n",
              "    <tr>\n",
              "      <th>...</th>\n",
              "      <td>...</td>\n",
              "      <td>...</td>\n",
              "      <td>...</td>\n",
              "    </tr>\n",
              "    <tr>\n",
              "      <th>2020-03-12</th>\n",
              "      <td>21200.6191</td>\n",
              "      <td>4044.2600</td>\n",
              "      <td>2420.8827</td>\n",
              "    </tr>\n",
              "    <tr>\n",
              "      <th>2020-03-13</th>\n",
              "      <td>23185.6191</td>\n",
              "      <td>4118.3599</td>\n",
              "      <td>2418.0191</td>\n",
              "    </tr>\n",
              "    <tr>\n",
              "      <th>2020-03-16</th>\n",
              "      <td>20188.5195</td>\n",
              "      <td>3881.4600</td>\n",
              "      <td>2426.6181</td>\n",
              "    </tr>\n",
              "    <tr>\n",
              "      <th>2020-03-17</th>\n",
              "      <td>21237.3809</td>\n",
              "      <td>3991.7800</td>\n",
              "      <td>2436.5000</td>\n",
              "    </tr>\n",
              "    <tr>\n",
              "      <th>2020-03-18</th>\n",
              "      <td>19898.9199</td>\n",
              "      <td>3754.8401</td>\n",
              "      <td>2398.1001</td>\n",
              "    </tr>\n",
              "  </tbody>\n",
              "</table>\n",
              "<p>5047 rows × 3 columns</p>\n",
              "</div>"
            ],
            "text/plain": [
              "            Close DJI30  Close CAC40  Close SP500\n",
              "time                                             \n",
              "2000-01-03   11357.5098    5917.3701    1455.2200\n",
              "2000-01-04   10997.9297    5672.0200    1399.4200\n",
              "2000-01-05   11122.6504    5479.7002    1402.1100\n",
              "2000-01-06   11253.2598    5450.1099    1403.4500\n",
              "2000-01-07   11522.5596    5539.6099    1441.4700\n",
              "...                 ...          ...          ...\n",
              "2020-03-12   21200.6191    4044.2600    2420.8827\n",
              "2020-03-13   23185.6191    4118.3599    2418.0191\n",
              "2020-03-16   20188.5195    3881.4600    2426.6181\n",
              "2020-03-17   21237.3809    3991.7800    2436.5000\n",
              "2020-03-18   19898.9199    3754.8401    2398.1001\n",
              "\n",
              "[5047 rows x 3 columns]"
            ]
          },
          "execution_count": 134,
          "metadata": {},
          "output_type": "execute_result"
        }
      ],
      "source": [
        "# Eliminar los valores faltantes o  NAN\n",
        "assets = assets.dropna()\n",
        "assets"
      ]
    },
    {
      "cell_type": "code",
      "execution_count": 137,
      "metadata": {},
      "outputs": [
        {
          "data": {
            "text/html": [
              "<div>\n",
              "<style scoped>\n",
              "    .dataframe tbody tr th:only-of-type {\n",
              "        vertical-align: middle;\n",
              "    }\n",
              "\n",
              "    .dataframe tbody tr th {\n",
              "        vertical-align: top;\n",
              "    }\n",
              "\n",
              "    .dataframe thead th {\n",
              "        text-align: right;\n",
              "    }\n",
              "</style>\n",
              "<table border=\"1\" class=\"dataframe\">\n",
              "  <thead>\n",
              "    <tr style=\"text-align: right;\">\n",
              "      <th></th>\n",
              "      <th>time</th>\n",
              "      <th>Close DJI30</th>\n",
              "      <th>Close CAC40</th>\n",
              "      <th>Close SP500</th>\n",
              "    </tr>\n",
              "  </thead>\n",
              "  <tbody>\n",
              "    <tr>\n",
              "      <th>0</th>\n",
              "      <td>2000-01-03</td>\n",
              "      <td>11357.5098</td>\n",
              "      <td>5917.3701</td>\n",
              "      <td>1455.2200</td>\n",
              "    </tr>\n",
              "    <tr>\n",
              "      <th>1</th>\n",
              "      <td>2000-01-04</td>\n",
              "      <td>10997.9297</td>\n",
              "      <td>5672.0200</td>\n",
              "      <td>1399.4200</td>\n",
              "    </tr>\n",
              "    <tr>\n",
              "      <th>2</th>\n",
              "      <td>2000-01-05</td>\n",
              "      <td>11122.6504</td>\n",
              "      <td>5479.7002</td>\n",
              "      <td>1402.1100</td>\n",
              "    </tr>\n",
              "    <tr>\n",
              "      <th>3</th>\n",
              "      <td>2000-01-06</td>\n",
              "      <td>11253.2598</td>\n",
              "      <td>5450.1099</td>\n",
              "      <td>1403.4500</td>\n",
              "    </tr>\n",
              "    <tr>\n",
              "      <th>4</th>\n",
              "      <td>2000-01-07</td>\n",
              "      <td>11522.5596</td>\n",
              "      <td>5539.6099</td>\n",
              "      <td>1441.4700</td>\n",
              "    </tr>\n",
              "    <tr>\n",
              "      <th>...</th>\n",
              "      <td>...</td>\n",
              "      <td>...</td>\n",
              "      <td>...</td>\n",
              "      <td>...</td>\n",
              "    </tr>\n",
              "    <tr>\n",
              "      <th>5042</th>\n",
              "      <td>2020-03-12</td>\n",
              "      <td>21200.6191</td>\n",
              "      <td>4044.2600</td>\n",
              "      <td>2420.8827</td>\n",
              "    </tr>\n",
              "    <tr>\n",
              "      <th>5043</th>\n",
              "      <td>2020-03-13</td>\n",
              "      <td>23185.6191</td>\n",
              "      <td>4118.3599</td>\n",
              "      <td>2418.0191</td>\n",
              "    </tr>\n",
              "    <tr>\n",
              "      <th>5044</th>\n",
              "      <td>2020-03-16</td>\n",
              "      <td>20188.5195</td>\n",
              "      <td>3881.4600</td>\n",
              "      <td>2426.6181</td>\n",
              "    </tr>\n",
              "    <tr>\n",
              "      <th>5045</th>\n",
              "      <td>2020-03-17</td>\n",
              "      <td>21237.3809</td>\n",
              "      <td>3991.7800</td>\n",
              "      <td>2436.5000</td>\n",
              "    </tr>\n",
              "    <tr>\n",
              "      <th>5046</th>\n",
              "      <td>2020-03-18</td>\n",
              "      <td>19898.9199</td>\n",
              "      <td>3754.8401</td>\n",
              "      <td>2398.1001</td>\n",
              "    </tr>\n",
              "  </tbody>\n",
              "</table>\n",
              "<p>5047 rows × 4 columns</p>\n",
              "</div>"
            ],
            "text/plain": [
              "           time  Close DJI30  Close CAC40  Close SP500\n",
              "0    2000-01-03   11357.5098    5917.3701    1455.2200\n",
              "1    2000-01-04   10997.9297    5672.0200    1399.4200\n",
              "2    2000-01-05   11122.6504    5479.7002    1402.1100\n",
              "3    2000-01-06   11253.2598    5450.1099    1403.4500\n",
              "4    2000-01-07   11522.5596    5539.6099    1441.4700\n",
              "...         ...          ...          ...          ...\n",
              "5042 2020-03-12   21200.6191    4044.2600    2420.8827\n",
              "5043 2020-03-13   23185.6191    4118.3599    2418.0191\n",
              "5044 2020-03-16   20188.5195    3881.4600    2426.6181\n",
              "5045 2020-03-17   21237.3809    3991.7800    2436.5000\n",
              "5046 2020-03-18   19898.9199    3754.8401    2398.1001\n",
              "\n",
              "[5047 rows x 4 columns]"
            ]
          },
          "execution_count": 137,
          "metadata": {},
          "output_type": "execute_result"
        }
      ],
      "source": [
        "# Reiniciar los indices\n",
        "assets.reset_index(drop=True)"
      ]
    },
    {
      "cell_type": "code",
      "execution_count": 138,
      "metadata": {},
      "outputs": [
        {
          "name": "stderr",
          "output_type": "stream",
          "text": [
            "/tmp/ipykernel_741/3219515475.py:2: SettingWithCopyWarning: \n",
            "A value is trying to be set on a copy of a slice from a DataFrame.\n",
            "Try using .loc[row_indexer,col_indexer] = value instead\n",
            "\n",
            "See the caveats in the documentation: https://pandas.pydata.org/pandas-docs/stable/user_guide/indexing.html#returning-a-view-versus-a-copy\n",
            "  assets[\"SMA 15\"] = assets[[\"Close SP500\"]].rolling(15).mean()\n"
          ]
        },
        {
          "data": {
            "text/html": [
              "<div>\n",
              "<style scoped>\n",
              "    .dataframe tbody tr th:only-of-type {\n",
              "        vertical-align: middle;\n",
              "    }\n",
              "\n",
              "    .dataframe tbody tr th {\n",
              "        vertical-align: top;\n",
              "    }\n",
              "\n",
              "    .dataframe thead th {\n",
              "        text-align: right;\n",
              "    }\n",
              "</style>\n",
              "<table border=\"1\" class=\"dataframe\">\n",
              "  <thead>\n",
              "    <tr style=\"text-align: right;\">\n",
              "      <th></th>\n",
              "      <th>Close DJI30</th>\n",
              "      <th>Close CAC40</th>\n",
              "      <th>Close SP500</th>\n",
              "      <th>SMA 15</th>\n",
              "    </tr>\n",
              "    <tr>\n",
              "      <th>time</th>\n",
              "      <th></th>\n",
              "      <th></th>\n",
              "      <th></th>\n",
              "      <th></th>\n",
              "    </tr>\n",
              "  </thead>\n",
              "  <tbody>\n",
              "    <tr>\n",
              "      <th>2000-01-03</th>\n",
              "      <td>11357.5098</td>\n",
              "      <td>5917.3701</td>\n",
              "      <td>1455.2200</td>\n",
              "      <td>NaN</td>\n",
              "    </tr>\n",
              "    <tr>\n",
              "      <th>2000-01-04</th>\n",
              "      <td>10997.9297</td>\n",
              "      <td>5672.0200</td>\n",
              "      <td>1399.4200</td>\n",
              "      <td>NaN</td>\n",
              "    </tr>\n",
              "    <tr>\n",
              "      <th>2000-01-05</th>\n",
              "      <td>11122.6504</td>\n",
              "      <td>5479.7002</td>\n",
              "      <td>1402.1100</td>\n",
              "      <td>NaN</td>\n",
              "    </tr>\n",
              "    <tr>\n",
              "      <th>2000-01-06</th>\n",
              "      <td>11253.2598</td>\n",
              "      <td>5450.1099</td>\n",
              "      <td>1403.4500</td>\n",
              "      <td>NaN</td>\n",
              "    </tr>\n",
              "    <tr>\n",
              "      <th>2000-01-07</th>\n",
              "      <td>11522.5596</td>\n",
              "      <td>5539.6099</td>\n",
              "      <td>1441.4700</td>\n",
              "      <td>NaN</td>\n",
              "    </tr>\n",
              "    <tr>\n",
              "      <th>...</th>\n",
              "      <td>...</td>\n",
              "      <td>...</td>\n",
              "      <td>...</td>\n",
              "      <td>...</td>\n",
              "    </tr>\n",
              "    <tr>\n",
              "      <th>2020-03-12</th>\n",
              "      <td>21200.6191</td>\n",
              "      <td>4044.2600</td>\n",
              "      <td>2420.8827</td>\n",
              "      <td>2445.100287</td>\n",
              "    </tr>\n",
              "    <tr>\n",
              "      <th>2020-03-13</th>\n",
              "      <td>23185.6191</td>\n",
              "      <td>4118.3599</td>\n",
              "      <td>2418.0191</td>\n",
              "      <td>2444.029520</td>\n",
              "    </tr>\n",
              "    <tr>\n",
              "      <th>2020-03-16</th>\n",
              "      <td>20188.5195</td>\n",
              "      <td>3881.4600</td>\n",
              "      <td>2426.6181</td>\n",
              "      <td>2443.003900</td>\n",
              "    </tr>\n",
              "    <tr>\n",
              "      <th>2020-03-17</th>\n",
              "      <td>21237.3809</td>\n",
              "      <td>3991.7800</td>\n",
              "      <td>2436.5000</td>\n",
              "      <td>2442.964567</td>\n",
              "    </tr>\n",
              "    <tr>\n",
              "      <th>2020-03-18</th>\n",
              "      <td>19898.9199</td>\n",
              "      <td>3754.8401</td>\n",
              "      <td>2398.1001</td>\n",
              "      <td>2440.551540</td>\n",
              "    </tr>\n",
              "  </tbody>\n",
              "</table>\n",
              "<p>5047 rows × 4 columns</p>\n",
              "</div>"
            ],
            "text/plain": [
              "            Close DJI30  Close CAC40  Close SP500       SMA 15\n",
              "time                                                          \n",
              "2000-01-03   11357.5098    5917.3701    1455.2200          NaN\n",
              "2000-01-04   10997.9297    5672.0200    1399.4200          NaN\n",
              "2000-01-05   11122.6504    5479.7002    1402.1100          NaN\n",
              "2000-01-06   11253.2598    5450.1099    1403.4500          NaN\n",
              "2000-01-07   11522.5596    5539.6099    1441.4700          NaN\n",
              "...                 ...          ...          ...          ...\n",
              "2020-03-12   21200.6191    4044.2600    2420.8827  2445.100287\n",
              "2020-03-13   23185.6191    4118.3599    2418.0191  2444.029520\n",
              "2020-03-16   20188.5195    3881.4600    2426.6181  2443.003900\n",
              "2020-03-17   21237.3809    3991.7800    2436.5000  2442.964567\n",
              "2020-03-18   19898.9199    3754.8401    2398.1001  2440.551540\n",
              "\n",
              "[5047 rows x 4 columns]"
            ]
          },
          "execution_count": 138,
          "metadata": {},
          "output_type": "execute_result"
        }
      ],
      "source": [
        "# Rolling Media moviles - sacar la media de los 15 primeros, en los siguientes\n",
        "assets[\"SMA 15\"] = assets[[\"Close SP500\"]].rolling(15).mean()\n",
        "assets\n"
      ]
    },
    {
      "cell_type": "code",
      "execution_count": 139,
      "metadata": {},
      "outputs": [
        {
          "data": {
            "text/plain": [
              "time\n",
              "2000-01-03          NaN\n",
              "2000-01-04    1455.2200\n",
              "2000-01-05    1399.4200\n",
              "2000-01-06    1402.1100\n",
              "2000-01-07    1403.4500\n",
              "                ...    \n",
              "2020-03-12    2423.1280\n",
              "2020-03-13    2420.8827\n",
              "2020-03-16    2418.0191\n",
              "2020-03-17    2426.6181\n",
              "2020-03-18    2436.5000\n",
              "Name: Close SP500, Length: 5047, dtype: float64"
            ]
          },
          "execution_count": 139,
          "metadata": {},
          "output_type": "execute_result"
        }
      ],
      "source": [
        "# Shift - Calcular porcentaje de variacion\n",
        "assets[\"Close SP500\"].shift(1)"
      ]
    },
    {
      "cell_type": "code",
      "execution_count": 142,
      "metadata": {},
      "outputs": [
        {
          "data": {
            "text/html": [
              "<div>\n",
              "<style scoped>\n",
              "    .dataframe tbody tr th:only-of-type {\n",
              "        vertical-align: middle;\n",
              "    }\n",
              "\n",
              "    .dataframe tbody tr th {\n",
              "        vertical-align: top;\n",
              "    }\n",
              "\n",
              "    .dataframe thead th {\n",
              "        text-align: right;\n",
              "    }\n",
              "</style>\n",
              "<table border=\"1\" class=\"dataframe\">\n",
              "  <thead>\n",
              "    <tr style=\"text-align: right;\">\n",
              "      <th></th>\n",
              "      <th>num</th>\n",
              "      <th>value</th>\n",
              "    </tr>\n",
              "  </thead>\n",
              "  <tbody>\n",
              "    <tr>\n",
              "      <th>0</th>\n",
              "      <td>1</td>\n",
              "      <td>11</td>\n",
              "    </tr>\n",
              "    <tr>\n",
              "      <th>1</th>\n",
              "      <td>1</td>\n",
              "      <td>10</td>\n",
              "    </tr>\n",
              "    <tr>\n",
              "      <th>2</th>\n",
              "      <td>3</td>\n",
              "      <td>15</td>\n",
              "    </tr>\n",
              "    <tr>\n",
              "      <th>3</th>\n",
              "      <td>3</td>\n",
              "      <td>15</td>\n",
              "    </tr>\n",
              "    <tr>\n",
              "      <th>4</th>\n",
              "      <td>3</td>\n",
              "      <td>10</td>\n",
              "    </tr>\n",
              "  </tbody>\n",
              "</table>\n",
              "</div>"
            ],
            "text/plain": [
              "   num  value\n",
              "0    1     11\n",
              "1    1     10\n",
              "2    3     15\n",
              "3    3     15\n",
              "4    3     10"
            ]
          },
          "execution_count": 142,
          "metadata": {},
          "output_type": "execute_result"
        }
      ],
      "source": [
        "# Agrupar por media\n",
        "arr = [\n",
        "    [1, 11],\n",
        "    [1, 10],\n",
        "    [3, 15],\n",
        "    [3, 15],\n",
        "    [3, 10],\n",
        "]\n",
        "\n",
        "# Dataframe con el array creado y con  las columnas num y values\n",
        "df = pd.DataFrame(arr,columns=[\"num\",\"value\"])\n",
        "\n",
        " \n",
        "df"
      ]
    },
    {
      "cell_type": "code",
      "execution_count": 143,
      "metadata": {},
      "outputs": [
        {
          "data": {
            "text/html": [
              "<div>\n",
              "<style scoped>\n",
              "    .dataframe tbody tr th:only-of-type {\n",
              "        vertical-align: middle;\n",
              "    }\n",
              "\n",
              "    .dataframe tbody tr th {\n",
              "        vertical-align: top;\n",
              "    }\n",
              "\n",
              "    .dataframe thead th {\n",
              "        text-align: right;\n",
              "    }\n",
              "</style>\n",
              "<table border=\"1\" class=\"dataframe\">\n",
              "  <thead>\n",
              "    <tr style=\"text-align: right;\">\n",
              "      <th></th>\n",
              "      <th>value</th>\n",
              "    </tr>\n",
              "    <tr>\n",
              "      <th>num</th>\n",
              "      <th></th>\n",
              "    </tr>\n",
              "  </thead>\n",
              "  <tbody>\n",
              "    <tr>\n",
              "      <th>1</th>\n",
              "      <td>10.500000</td>\n",
              "    </tr>\n",
              "    <tr>\n",
              "      <th>3</th>\n",
              "      <td>13.333333</td>\n",
              "    </tr>\n",
              "  </tbody>\n",
              "</table>\n",
              "</div>"
            ],
            "text/plain": [
              "         value\n",
              "num           \n",
              "1    10.500000\n",
              "3    13.333333"
            ]
          },
          "execution_count": 143,
          "metadata": {},
          "output_type": "execute_result"
        }
      ],
      "source": [
        "# Agrupar por media por la columna \"num\" y la media que de la columna value\n",
        "df.groupby(by=\"num\").mean()"
      ]
    },
    {
      "cell_type": "code",
      "execution_count": 144,
      "metadata": {},
      "outputs": [
        {
          "data": {
            "text/html": [
              "<div>\n",
              "<style scoped>\n",
              "    .dataframe tbody tr th:only-of-type {\n",
              "        vertical-align: middle;\n",
              "    }\n",
              "\n",
              "    .dataframe tbody tr th {\n",
              "        vertical-align: top;\n",
              "    }\n",
              "\n",
              "    .dataframe thead th {\n",
              "        text-align: right;\n",
              "    }\n",
              "</style>\n",
              "<table border=\"1\" class=\"dataframe\">\n",
              "  <thead>\n",
              "    <tr style=\"text-align: right;\">\n",
              "      <th></th>\n",
              "      <th>value</th>\n",
              "    </tr>\n",
              "    <tr>\n",
              "      <th>num</th>\n",
              "      <th></th>\n",
              "    </tr>\n",
              "  </thead>\n",
              "  <tbody>\n",
              "    <tr>\n",
              "      <th>1</th>\n",
              "      <td>21</td>\n",
              "    </tr>\n",
              "    <tr>\n",
              "      <th>3</th>\n",
              "      <td>40</td>\n",
              "    </tr>\n",
              "  </tbody>\n",
              "</table>\n",
              "</div>"
            ],
            "text/plain": [
              "     value\n",
              "num       \n",
              "1       21\n",
              "3       40"
            ]
          },
          "execution_count": 144,
          "metadata": {},
          "output_type": "execute_result"
        }
      ],
      "source": [
        "# Agrupar por suma\n",
        "df.groupby(by=\"num\").sum()"
      ]
    },
    {
      "cell_type": "markdown",
      "metadata": {
        "id": "aH-i3Tn3UjJ_"
      },
      "source": [
        "### Matplotlib"
      ]
    }
  ],
  "metadata": {
    "colab": {
      "collapsed_sections": [
        "oYh-hMSTB1Ur",
        "KE9L44nED-JK"
      ],
      "include_colab_link": true,
      "name": "ES-TA Capítulo 02: Python para Data Science.ipynb",
      "provenance": []
    },
    "kernelspec": {
      "display_name": "Python 3",
      "name": "python3"
    },
    "language_info": {
      "codemirror_mode": {
        "name": "ipython",
        "version": 3
      },
      "file_extension": ".py",
      "mimetype": "text/x-python",
      "name": "python",
      "nbconvert_exporter": "python",
      "pygments_lexer": "ipython3",
      "version": "3.10.6"
    }
  },
  "nbformat": 4,
  "nbformat_minor": 0
}
