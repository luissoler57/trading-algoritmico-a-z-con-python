{
  "cells": [
    {
      "cell_type": "markdown",
      "metadata": {
        "colab_type": "text",
        "id": "view-in-github"
      },
      "source": [
        "<a href=\"https://colab.research.google.com/github/joanby/trading-algoritmico-a-z-con-python/blob/main/ES_TA_Cap%C3%ADtulo_04_Crea_tu_primera_estrategia_de_trading.ipynb\" target=\"_parent\"><img src=\"https://colab.research.google.com/assets/colab-badge.svg\" alt=\"Open In Colab\"/></a>"
      ]
    },
    {
      "cell_type": "markdown",
      "metadata": {
        "id": "1ZsY5xy5sSf2"
      },
      "source": [
        "<p><img alt=\"Colaboratory logo\" height=\"45px\" src=\"https://www.quantreo.com/wp-content/uploads/2021/10/Original-on-Transparent.png\" align=\"left\" hspace=\"10px\" vspace=\"0px\">\n",
        "<img alt=\"Colaboratory logo\" height=\"45px\" src=\"https://static-881c.kxcdn.com/wp-content/uploads/2016/03/frogamesLogoFull4.png\" align=\"left\" hspace=\"10px\" vspace=\"0px\"></p>\n",
        "\n",
        "\n",
        "# Crea tu primera estrategia de trading\n",
        "\n",
        "\n",
        "### Resumen\n",
        "* Gestionar los datos\n",
        "* Media móvil\n",
        "* Estrategia\n",
        "* Gráfico\n",
        "* Calcular el beneficio\n",
        "* Automatización\n",
        "* Comparar la estrategia con datos procedentes de diferentes fuentes\n",
        "\n",
        "<br>\n",
        "\n",
        "\n",
        "\n",
        "💰 Únete a la comunidad de [Discord](https://discord.gg/z3dx5XpkX4)\n",
        "\n",
        "📚 Puedes leer nuestro libro en [Amazon](https://www.amazon.es/Python-para-finanzas-trading-algor%C3%ADtmico-ebook/dp/B0BT4ZS9Q3/)\n",
        "\n",
        "🖥️ El canal de [YouTube de Quantreo's](https://www.youtube.com/channel/UCp7jckfiEglNf_Gj62VR0pw) (en inglés) y el de [Frogames](https://www.youtube.com/channel/UCMUxXNYrVCv6-bQakhomvBg) en español\n"
      ]
    },
    {
      "cell_type": "code",
      "execution_count": 1,
      "metadata": {
        "id": "vjIltp4XqmxX"
      },
      "outputs": [],
      "source": [
        "import numpy as np\n",
        "import pandas as pd\n",
        "import yfinance as yf\n",
        "import warnings\n",
        "warnings.filterwarnings(\"ignore\")"
      ]
    },
    {
      "cell_type": "code",
      "execution_count": 2,
      "metadata": {
        "id": "xBnTuK574blN"
      },
      "outputs": [],
      "source": [
        "# El código aquí te permitirá cambiar los gráficos a modo oscuro para aquellos que optéis por programar en modo oscuro\n",
        "import matplotlib.pyplot as plt\n",
        "\n",
        "import matplotlib as mpl\n",
        "from matplotlib import cycler\n",
        "colors = cycler('color',\n",
        "                ['#669FEE', '#66EE91', '#9988DD',\n",
        "                 '#EECC55', '#88BB44', '#FFBBBB'])\n",
        "plt.rc('figure', facecolor='#313233')\n",
        "plt.rc('axes', facecolor=\"#313233\", edgecolor='none',\n",
        "       axisbelow=True, grid=True, prop_cycle=colors,\n",
        "       labelcolor='gray')\n",
        "plt.rc('grid', color='474A4A', linestyle='solid')\n",
        "plt.rc('xtick', color='gray')\n",
        "plt.rc('ytick', direction='out', color='gray')\n",
        "plt.rc('legend', facecolor=\"#313233\", edgecolor=\"#313233\")\n",
        "plt.rc(\"text\", color=\"#C9C9C9\")"
      ]
    },
    {
      "cell_type": "markdown",
      "metadata": {
        "id": "d5kArxfa4And"
      },
      "source": [
        "#  Gestionar los datos\n",
        "\n"
      ]
    },
    {
      "cell_type": "code",
      "execution_count": 3,
      "metadata": {
        "id": "3nkP0bhO4pMq"
      },
      "outputs": [],
      "source": [
        "# Función de preprocesado\n",
        "\n",
        "def preprocessing(name):\n",
        "  \n",
        "  # Importar los datos\n",
        "  df = pd.read_csv(name, delimiter=\"\\t\", index_col=\"<DATE>\", parse_dates=True).dropna()\n",
        "\n",
        "  # Eliminar las últimas dos columnas\n",
        "  df = df.iloc[:,:-2]\n",
        "\n",
        "  # Renombrar \n",
        "  df.columns = [\"open\", \"high\", \"low\", \"close\", \"volume\"]\n",
        "  df.index.name = \"time\"\n",
        "\n",
        "  return df"
      ]
    },
    {
      "cell_type": "code",
      "execution_count": 4,
      "metadata": {
        "id": "CAfQp8Jc4D5M"
      },
      "outputs": [],
      "source": [
        "def preprocessing_yf(symbol):\n",
        "  \n",
        "  #Importar los datos\n",
        "  df = yf.download(symbol).dropna()\n",
        "\n",
        "  #Renombrar\n",
        "  df.columns = [\"open\", \"high\", \"low\", \"close\", \"adj close\", \"volume\"]\n",
        "  df.index.name = \"time\"\n",
        "\n",
        "  # Eliminar la columna adj close\n",
        "  del df[\"adj close\"]\n",
        "\n",
        "  return df"
      ]
    },
    {
      "cell_type": "code",
      "execution_count": 5,
      "metadata": {
        "colab": {
          "base_uri": "https://localhost:8080/"
        },
        "id": "_Vy3HwjmAGeZ",
        "outputId": "54f12bf5-8682-491e-8292-f7bbc0aaa334"
      },
      "outputs": [
        {
          "name": "stdout",
          "output_type": "stream",
          "text": [
            "[*********************100%***********************]  1 of 1 completed\n"
          ]
        }
      ],
      "source": [
        "df = preprocessing_yf(\"EURUSD=X\")"
      ]
    },
    {
      "cell_type": "code",
      "execution_count": 7,
      "metadata": {
        "colab": {
          "base_uri": "https://localhost:8080/",
          "height": 455
        },
        "id": "_t36w3jfAMK0",
        "outputId": "9a7fe8e0-c2dc-461e-cd48-0e53755ed4f5"
      },
      "outputs": [
        {
          "data": {
            "text/html": [
              "\n",
              "  <div id=\"df-97e8eca8-fb64-4274-8c30-db9cbe521b17\">\n",
              "    <div class=\"colab-df-container\">\n",
              "      <div>\n",
              "<style scoped>\n",
              "    .dataframe tbody tr th:only-of-type {\n",
              "        vertical-align: middle;\n",
              "    }\n",
              "\n",
              "    .dataframe tbody tr th {\n",
              "        vertical-align: top;\n",
              "    }\n",
              "\n",
              "    .dataframe thead th {\n",
              "        text-align: right;\n",
              "    }\n",
              "</style>\n",
              "<table border=\"1\" class=\"dataframe\">\n",
              "  <thead>\n",
              "    <tr style=\"text-align: right;\">\n",
              "      <th></th>\n",
              "      <th>open</th>\n",
              "      <th>high</th>\n",
              "      <th>low</th>\n",
              "      <th>close</th>\n",
              "      <th>volume</th>\n",
              "    </tr>\n",
              "    <tr>\n",
              "      <th>time</th>\n",
              "      <th></th>\n",
              "      <th></th>\n",
              "      <th></th>\n",
              "      <th></th>\n",
              "      <th></th>\n",
              "    </tr>\n",
              "  </thead>\n",
              "  <tbody>\n",
              "    <tr>\n",
              "      <th>2003-12-01</th>\n",
              "      <td>1.203398</td>\n",
              "      <td>1.204007</td>\n",
              "      <td>1.194401</td>\n",
              "      <td>1.196501</td>\n",
              "      <td>0</td>\n",
              "    </tr>\n",
              "    <tr>\n",
              "      <th>2003-12-02</th>\n",
              "      <td>1.196101</td>\n",
              "      <td>1.210903</td>\n",
              "      <td>1.194600</td>\n",
              "      <td>1.208897</td>\n",
              "      <td>0</td>\n",
              "    </tr>\n",
              "    <tr>\n",
              "      <th>2003-12-03</th>\n",
              "      <td>1.209000</td>\n",
              "      <td>1.213003</td>\n",
              "      <td>1.207700</td>\n",
              "      <td>1.212298</td>\n",
              "      <td>0</td>\n",
              "    </tr>\n",
              "    <tr>\n",
              "      <th>2003-12-04</th>\n",
              "      <td>1.212004</td>\n",
              "      <td>1.214403</td>\n",
              "      <td>1.204398</td>\n",
              "      <td>1.208094</td>\n",
              "      <td>0</td>\n",
              "    </tr>\n",
              "    <tr>\n",
              "      <th>2003-12-05</th>\n",
              "      <td>1.207802</td>\n",
              "      <td>1.219096</td>\n",
              "      <td>1.206593</td>\n",
              "      <td>1.218695</td>\n",
              "      <td>0</td>\n",
              "    </tr>\n",
              "    <tr>\n",
              "      <th>...</th>\n",
              "      <td>...</td>\n",
              "      <td>...</td>\n",
              "      <td>...</td>\n",
              "      <td>...</td>\n",
              "      <td>...</td>\n",
              "    </tr>\n",
              "    <tr>\n",
              "      <th>2022-06-13</th>\n",
              "      <td>1.048999</td>\n",
              "      <td>1.049759</td>\n",
              "      <td>1.041905</td>\n",
              "      <td>1.048999</td>\n",
              "      <td>0</td>\n",
              "    </tr>\n",
              "    <tr>\n",
              "      <th>2022-06-14</th>\n",
              "      <td>1.041515</td>\n",
              "      <td>1.048240</td>\n",
              "      <td>1.039825</td>\n",
              "      <td>1.041515</td>\n",
              "      <td>0</td>\n",
              "    </tr>\n",
              "    <tr>\n",
              "      <th>2022-06-15</th>\n",
              "      <td>1.044059</td>\n",
              "      <td>1.050718</td>\n",
              "      <td>1.038627</td>\n",
              "      <td>1.044059</td>\n",
              "      <td>0</td>\n",
              "    </tr>\n",
              "    <tr>\n",
              "      <th>2022-06-16</th>\n",
              "      <td>1.045620</td>\n",
              "      <td>1.053031</td>\n",
              "      <td>1.038260</td>\n",
              "      <td>1.045620</td>\n",
              "      <td>0</td>\n",
              "    </tr>\n",
              "    <tr>\n",
              "      <th>2022-06-17</th>\n",
              "      <td>1.055520</td>\n",
              "      <td>1.056301</td>\n",
              "      <td>1.049759</td>\n",
              "      <td>1.052299</td>\n",
              "      <td>0</td>\n",
              "    </tr>\n",
              "  </tbody>\n",
              "</table>\n",
              "<p>4811 rows × 5 columns</p>\n",
              "</div>\n",
              "      <button class=\"colab-df-convert\" onclick=\"convertToInteractive('df-97e8eca8-fb64-4274-8c30-db9cbe521b17')\"\n",
              "              title=\"Convert this dataframe to an interactive table.\"\n",
              "              style=\"display:none;\">\n",
              "        \n",
              "  <svg xmlns=\"http://www.w3.org/2000/svg\" height=\"24px\"viewBox=\"0 0 24 24\"\n",
              "       width=\"24px\">\n",
              "    <path d=\"M0 0h24v24H0V0z\" fill=\"none\"/>\n",
              "    <path d=\"M18.56 5.44l.94 2.06.94-2.06 2.06-.94-2.06-.94-.94-2.06-.94 2.06-2.06.94zm-11 1L8.5 8.5l.94-2.06 2.06-.94-2.06-.94L8.5 2.5l-.94 2.06-2.06.94zm10 10l.94 2.06.94-2.06 2.06-.94-2.06-.94-.94-2.06-.94 2.06-2.06.94z\"/><path d=\"M17.41 7.96l-1.37-1.37c-.4-.4-.92-.59-1.43-.59-.52 0-1.04.2-1.43.59L10.3 9.45l-7.72 7.72c-.78.78-.78 2.05 0 2.83L4 21.41c.39.39.9.59 1.41.59.51 0 1.02-.2 1.41-.59l7.78-7.78 2.81-2.81c.8-.78.8-2.07 0-2.86zM5.41 20L4 18.59l7.72-7.72 1.47 1.35L5.41 20z\"/>\n",
              "  </svg>\n",
              "      </button>\n",
              "      \n",
              "  <style>\n",
              "    .colab-df-container {\n",
              "      display:flex;\n",
              "      flex-wrap:wrap;\n",
              "      gap: 12px;\n",
              "    }\n",
              "\n",
              "    .colab-df-convert {\n",
              "      background-color: #E8F0FE;\n",
              "      border: none;\n",
              "      border-radius: 50%;\n",
              "      cursor: pointer;\n",
              "      display: none;\n",
              "      fill: #1967D2;\n",
              "      height: 32px;\n",
              "      padding: 0 0 0 0;\n",
              "      width: 32px;\n",
              "    }\n",
              "\n",
              "    .colab-df-convert:hover {\n",
              "      background-color: #E2EBFA;\n",
              "      box-shadow: 0px 1px 2px rgba(60, 64, 67, 0.3), 0px 1px 3px 1px rgba(60, 64, 67, 0.15);\n",
              "      fill: #174EA6;\n",
              "    }\n",
              "\n",
              "    [theme=dark] .colab-df-convert {\n",
              "      background-color: #3B4455;\n",
              "      fill: #D2E3FC;\n",
              "    }\n",
              "\n",
              "    [theme=dark] .colab-df-convert:hover {\n",
              "      background-color: #434B5C;\n",
              "      box-shadow: 0px 1px 3px 1px rgba(0, 0, 0, 0.15);\n",
              "      filter: drop-shadow(0px 1px 2px rgba(0, 0, 0, 0.3));\n",
              "      fill: #FFFFFF;\n",
              "    }\n",
              "  </style>\n",
              "\n",
              "      <script>\n",
              "        const buttonEl =\n",
              "          document.querySelector('#df-97e8eca8-fb64-4274-8c30-db9cbe521b17 button.colab-df-convert');\n",
              "        buttonEl.style.display =\n",
              "          google.colab.kernel.accessAllowed ? 'block' : 'none';\n",
              "\n",
              "        async function convertToInteractive(key) {\n",
              "          const element = document.querySelector('#df-97e8eca8-fb64-4274-8c30-db9cbe521b17');\n",
              "          const dataTable =\n",
              "            await google.colab.kernel.invokeFunction('convertToInteractive',\n",
              "                                                     [key], {});\n",
              "          if (!dataTable) return;\n",
              "\n",
              "          const docLinkHtml = 'Like what you see? Visit the ' +\n",
              "            '<a target=\"_blank\" href=https://colab.research.google.com/notebooks/data_table.ipynb>data table notebook</a>'\n",
              "            + ' to learn more about interactive tables.';\n",
              "          element.innerHTML = '';\n",
              "          dataTable['output_type'] = 'display_data';\n",
              "          await google.colab.output.renderOutput(dataTable, element);\n",
              "          const docLink = document.createElement('div');\n",
              "          docLink.innerHTML = docLinkHtml;\n",
              "          element.appendChild(docLink);\n",
              "        }\n",
              "      </script>\n",
              "    </div>\n",
              "  </div>\n",
              "  "
            ],
            "text/plain": [
              "                open      high       low     close  volume\n",
              "time                                                      \n",
              "2003-12-01  1.203398  1.204007  1.194401  1.196501       0\n",
              "2003-12-02  1.196101  1.210903  1.194600  1.208897       0\n",
              "2003-12-03  1.209000  1.213003  1.207700  1.212298       0\n",
              "2003-12-04  1.212004  1.214403  1.204398  1.208094       0\n",
              "2003-12-05  1.207802  1.219096  1.206593  1.218695       0\n",
              "...              ...       ...       ...       ...     ...\n",
              "2022-06-13  1.048999  1.049759  1.041905  1.048999       0\n",
              "2022-06-14  1.041515  1.048240  1.039825  1.041515       0\n",
              "2022-06-15  1.044059  1.050718  1.038627  1.044059       0\n",
              "2022-06-16  1.045620  1.053031  1.038260  1.045620       0\n",
              "2022-06-17  1.055520  1.056301  1.049759  1.052299       0\n",
              "\n",
              "[4811 rows x 5 columns]"
            ]
          },
          "execution_count": 7,
          "metadata": {},
          "output_type": "execute_result"
        }
      ],
      "source": [
        "df"
      ]
    },
    {
      "cell_type": "markdown",
      "metadata": {
        "id": "iqdNQiEkWWPr"
      },
      "source": [
        "# Media móvil"
      ]
    },
    {
      "cell_type": "code",
      "execution_count": null,
      "metadata": {},
      "outputs": [],
      "source": []
    },
    {
      "cell_type": "markdown",
      "metadata": {
        "id": "egkAZjEbYSFh"
      },
      "source": [
        "# Estrategia"
      ]
    },
    {
      "cell_type": "markdown",
      "metadata": {
        "id": "AlLEpBVQZQBE"
      },
      "source": [
        "# Verificación gráfica"
      ]
    },
    {
      "cell_type": "markdown",
      "metadata": {
        "id": "TTlUjMGwZbXM"
      },
      "source": [
        "# Calcular las ganancias"
      ]
    },
    {
      "cell_type": "markdown",
      "metadata": {
        "id": "tiuSeAfuZgSZ"
      },
      "source": [
        "# Automatización"
      ]
    },
    {
      "cell_type": "markdown",
      "metadata": {
        "id": "905V5iOxCKtD"
      },
      "source": [
        "# Comparar la estrategia con diferentes datos"
      ]
    }
  ],
  "metadata": {
    "colab": {
      "include_colab_link": true,
      "name": "ES - TA Capítulo 04: Crea tu primera estrategia de trading.ipynb",
      "provenance": []
    },
    "kernelspec": {
      "display_name": "Python 3",
      "name": "python3"
    },
    "language_info": {
      "codemirror_mode": {
        "name": "ipython",
        "version": 3
      },
      "file_extension": ".py",
      "mimetype": "text/x-python",
      "name": "python",
      "nbconvert_exporter": "python",
      "pygments_lexer": "ipython3",
      "version": "3.10.6"
    }
  },
  "nbformat": 4,
  "nbformat_minor": 0
}
